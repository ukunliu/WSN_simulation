{
 "cells": [
  {
   "cell_type": "code",
   "execution_count": 7,
   "metadata": {},
   "outputs": [],
   "source": [
    "import torch \n",
    "from torch import linalg as LA\n",
    "import torch.nn as nn\n",
    "import torch.nn.functional as F\n",
    "from torch.utils.tensorboard import SummaryWriter"
   ]
  },
  {
   "cell_type": "code",
   "execution_count": null,
   "metadata": {},
   "outputs": [],
   "source": [
    "class three_ffn(nn.Module):\n",
    "    def __init__(self, in_ch, out_ch):\n",
    "        self.net = nn.Sequential(\n",
    "            nn.Linear(in_ch, out_ch),\n",
    "            nn.ReLU(inplace=True),\n",
    "            nn.Linear(in_ch, out_ch),\n",
    "            nn.ReLU(inplace=True),\n",
    "            nn.Linear(in_ch, out_ch)\n",
    "        )\n",
    "\n",
    "    def forward(self, x):\n",
    "        x = self.net(x)\n",
    "        return x\n",
    "\n",
    "class f_z(nn.Module):\n",
    "    def __init__(self, in_ch, out_ch=256):\n",
    "        super().__init__()\n",
    "        self.net = three_ffn(in_ch, out_ch)\n",
    "\n",
    "    def forward(self, x):\n",
    "        x = self.net(x)\n",
    "        return x\n",
    "\n",
    "class f_b(nn.Module):\n",
    "    def __init__(self, in_ch, out_ch=1):\n",
    "        super().__init__()\n",
    "        self.net = three_ffn(in_ch, out_ch)\n",
    "\n",
    "    def forward(self, x):\n",
    "        x = self.net(x)\n",
    "        return x\n",
    "\n",
    "class f_k(nn.Module):\n",
    "    def __init__(self, in_ch, out_ch=256):\n",
    "        super().__init__()\n",
    "        self.net = three_ffn(in_ch, out_ch)\n",
    "\n",
    "    def forward(self, x):\n",
    "        x = self.net(x)\n",
    "        return x\n",
    "\n",
    "\n",
    "class f_m(nn.Module):\n",
    "    def __init__(self, in_ch, out_ch=1):\n",
    "        super().__init__()\n",
    "        self.net = three_ffn(in_ch, out_ch)\n",
    "\n",
    "    def forward(self, x):\n",
    "        x = self.net(x)\n",
    "        return x"
   ]
  },
  {
   "cell_type": "code",
   "execution_count": null,
   "metadata": {},
   "outputs": [],
   "source": [
    "class Few_shot:\n",
    "    def __init__(self) -> None:\n",
    "        self.f_z = f_z()\n",
    "        self.f_k = f_k(1)\n",
    "        self.f_b = f_b()\n",
    "\n",
    "    def forward(self, x):\n",
    "        z = self.f_z(x)\n",
    "        xz = torch.cat((x, z), 1)\n",
    "        kv = self.f_k(xz)\n",
    "        b = self.f_b(z)\n",
    "        LA.vector_norm(torch.diff(kv, prepend=kv[0]), ord=2)"
   ]
  },
  {
   "cell_type": "code",
   "execution_count": 8,
   "metadata": {},
   "outputs": [
    {
     "data": {
      "text/plain": [
       "tensor([ 0,  2, -1])"
      ]
     },
     "execution_count": 8,
     "metadata": {},
     "output_type": "execute_result"
    }
   ],
   "source": [
    "a = torch.tensor([1, 3, 2])\n",
    "b = torch.tensor([1])\n",
    "torch.diff(a, prepend=b)"
   ]
  },
  {
   "cell_type": "code",
   "execution_count": 12,
   "metadata": {},
   "outputs": [
    {
     "ename": "SyntaxError",
     "evalue": "invalid syntax (<ipython-input-12-b01235fdfecd>, line 2)",
     "output_type": "error",
     "traceback": [
      "\u001b[1;36m  File \u001b[1;32m\"<ipython-input-12-b01235fdfecd>\"\u001b[1;36m, line \u001b[1;32m2\u001b[0m\n\u001b[1;33m    cd scikit-gstat\u001b[0m\n\u001b[1;37m            ^\u001b[0m\n\u001b[1;31mSyntaxError\u001b[0m\u001b[1;31m:\u001b[0m invalid syntax\n"
     ]
    }
   ],
   "source": [
    "!git clone https://github.com/mmaelicke/scikit-gstat.git\n",
    "cd scikit-gstat\n",
    "pip install -r requirements.txt\n",
    "pip install -e ."
   ]
  },
  {
   "cell_type": "code",
   "execution_count": 13,
   "metadata": {},
   "outputs": [],
   "source": [
    "from setuptools import setup"
   ]
  },
  {
   "cell_type": "code",
   "execution_count": 14,
   "metadata": {},
   "outputs": [
    {
     "data": {
      "text/plain": [
       "<function setuptools.setup(**attrs)>"
      ]
     },
     "execution_count": 14,
     "metadata": {},
     "output_type": "execute_result"
    }
   ],
   "source": [
    "setup"
   ]
  }
 ],
 "metadata": {
  "kernelspec": {
   "display_name": "Python 3",
   "language": "python",
   "name": "python3"
  },
  "language_info": {
   "codemirror_mode": {
    "name": "ipython",
    "version": 3
   },
   "file_extension": ".py",
   "mimetype": "text/x-python",
   "name": "python",
   "nbconvert_exporter": "python",
   "pygments_lexer": "ipython3",
   "version": "3.9.13"
  },
  "orig_nbformat": 4,
  "vscode": {
   "interpreter": {
    "hash": "03573f4b64923689d4251380d9281a39682538eb2277d996e0c4a1b13dbbb109"
   }
  }
 },
 "nbformat": 4,
 "nbformat_minor": 2
}
