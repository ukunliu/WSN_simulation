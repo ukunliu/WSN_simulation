{
 "cells": [
  {
   "cell_type": "code",
   "execution_count": 1,
   "metadata": {},
   "outputs": [],
   "source": [
    "import numpy as np\n",
    "import matplotlib.pyplot as plt"
   ]
  },
  {
   "cell_type": "code",
   "execution_count": 32,
   "metadata": {},
   "outputs": [],
   "source": [
    "cirs = np.load('cirs_noised_ld.npy')\n",
    "cirs_obs = np.load('cirs_observation_ld.npy')\n",
    "triplets = np.load('triplets_ld.npy')\n",
    "anchor_idx = np.load('anchor_idx.npy')\n",
    "pos_idx = np.load('pos_idx.npy')\n",
    "neg_idx = np.load('neg_idx.npy')"
   ]
  },
  {
   "cell_type": "code",
   "execution_count": 3,
   "metadata": {},
   "outputs": [],
   "source": [
    "# miu, sigma = cirs.mean(), cirs.var()\n",
    "\n",
    "# cirs = (cirs - cirs.min()) / (cirs.max() - cirs.min())\n",
    "# cirs_obs = (cirs_obs - cirs_obs.min()) / (cirs_obs.max() - cirs_obs.min())"
   ]
  },
  {
   "cell_type": "code",
   "execution_count": 33,
   "metadata": {},
   "outputs": [],
   "source": [
    "import pandas as pd\n",
    "from sklearn.preprocessing import StandardScaler"
   ]
  },
  {
   "cell_type": "code",
   "execution_count": 5,
   "metadata": {},
   "outputs": [],
   "source": [
    "def normalize_complex_arr(a):\n",
    "    a_oo = a - a.real.min() - 1j*a.imag.min() # origin offsetted\n",
    "    return a_oo/np.abs(a_oo).max()"
   ]
  },
  {
   "cell_type": "code",
   "execution_count": 6,
   "metadata": {},
   "outputs": [],
   "source": [
    "cirs_real, cirs_img = np.real(cirs), np.imag(cirs)\n",
    "cirs_obs_real, cirs_obs_img = np.real(cirs_obs), np.imag(cirs_obs)"
   ]
  },
  {
   "cell_type": "code",
   "execution_count": 7,
   "metadata": {},
   "outputs": [],
   "source": [
    "cirs_complex = np.stack([cirs_real, cirs_img], axis=-1) * 10\n",
    "cirs_obs_complex = np.stack([cirs_obs_real, cirs_obs_img], axis=-1) * 10"
   ]
  },
  {
   "cell_type": "code",
   "execution_count": 14,
   "metadata": {},
   "outputs": [
    {
     "data": {
      "text/plain": [
       "((9.225493438332279e-08-1.1522068276486939e-08j),\n",
       " (1.0528227549875248e-07+2.2889703369286082e-08j))"
      ]
     },
     "execution_count": 14,
     "metadata": {},
     "output_type": "execute_result"
    }
   ],
   "source": [
    "np.mean(cirs_obs), np.mean(cirs)"
   ]
  },
  {
   "cell_type": "code",
   "execution_count": 8,
   "metadata": {},
   "outputs": [],
   "source": [
    "P = np.array([cirs_obs[trp[0]] for trp in triplets])\n",
    "Pi = np.array([cirs[trp[1]] for trp in triplets])\n",
    "Pj = np.array([cirs[trp[2]] for trp in triplets])"
   ]
  },
  {
   "cell_type": "code",
   "execution_count": 9,
   "metadata": {},
   "outputs": [],
   "source": [
    "def loss_hinge(p, pi, pj, W, margin=1):\n",
    "    return max(0, margin - p.T @ W @ pi + p.T @ W @ pj)\n",
    "\n",
    "def loss_global(triplets, W, cirs, cirs_obs):\n",
    "    return np.sum([loss_hinge(cirs_obs[i0], cirs[i1], cirs[i2], W) for i0, i1, i2 in triplets])\n",
    "\n",
    "def gradient(W, P, Pi, Pj):\n",
    "    grad = np.zeros_like(W)\n",
    "\n",
    "def gradient_descent():\n",
    "    ..."
   ]
  },
  {
   "attachments": {},
   "cell_type": "markdown",
   "metadata": {},
   "source": [
    "## Triplet loss with Keras"
   ]
  },
  {
   "cell_type": "code",
   "execution_count": 177,
   "metadata": {},
   "outputs": [],
   "source": [
    "import tensorflow as tf\n",
    "from tensorflow.keras import layers\n",
    "from tensorflow.keras.models import Model, Sequential\n",
    "from tensorflow.keras.layers import Embedding, Flatten, Input, Dense, LayerNormalization, Dropout, Concatenate\n",
    "from tensorflow.keras.layers import Lambda, Dot\n",
    "from tensorflow.keras.regularizers import l2\n",
    "from keras.callbacks import History \n",
    "from keras import backend as K"
   ]
  },
  {
   "cell_type": "code",
   "execution_count": 167,
   "metadata": {},
   "outputs": [],
   "source": [
    "import tensorflow as tf\n",
    "from sklearn.metrics import roc_auc_score\n",
    "from tensorflow.keras import layers\n",
    "\n",
    "\n",
    "def identity_loss(y_true, y_pred):\n",
    "    \"\"\"Ignore y_true and return the mean of y_pred\n",
    "    \n",
    "    This is a hack to work-around the design of the Keras API that is\n",
    "    not really suited to train networks with a triplet loss by default.\n",
    "    \"\"\"\n",
    "    return tf.reduce_mean(y_pred)\n",
    "\n",
    "\n",
    "class MarginLoss(layers.Layer):\n",
    "\n",
    "    def __init__(self, margin=1):\n",
    "        super().__init__()\n",
    "        self.margin = margin\n",
    "        \n",
    "    def call(self, inputs):\n",
    "        pos_pair_similarity = inputs[0]\n",
    "        neg_pair_similarity = inputs[1]\n",
    "        \n",
    "        # diff = (neg_pair_similarity - pos_pair_similarity) * 2 / (pos_pair_similarity + neg_pair_similarity)\n",
    "        diff = pos_pair_similarity - neg_pair_similarity\n",
    "        return tf.maximum(diff + self.margin, 0.)\n",
    "    \n",
    "\n",
    "def average_roc_auc(model, triplets_train, triplets_test):\n",
    "    \"\"\"Compute the ROC AUC for each user and average over users\"\"\"\n",
    "    max_user_id = max(data_train['user_id'].max(),\n",
    "                      data_test['user_id'].max())\n",
    "    max_item_id = max(data_train['item_id'].max(),\n",
    "                      data_test['item_id'].max())\n",
    "    user_auc_scores = []\n",
    "    for user_id in range(1, max_user_id + 1):\n",
    "        pos_item_train = triplets_train[1]\n",
    "        pos_item_test = triplets_test[1]\n",
    "        \n",
    "        # Consider all the items already seen in the training set\n",
    "        all_item_ids = np.arange(1, max_item_id + 1)\n",
    "        items_to_rank = np.setdiff1d(\n",
    "            all_item_ids, pos_item_train['item_id'].values)\n",
    "        \n",
    "        # Ground truth: return 1 for each item positively present in\n",
    "        # the test set and 0 otherwise.\n",
    "        expected = np.in1d(\n",
    "            items_to_rank, pos_item_test['item_id'].values)\n",
    "        \n",
    "        if np.sum(expected) >= 1:\n",
    "            # At least one positive test value to rank\n",
    "            repeated_user_id = np.empty_like(items_to_rank)\n",
    "            repeated_user_id.fill(user_id)\n",
    "\n",
    "            predicted = model.predict(\n",
    "                [repeated_user_id, items_to_rank], batch_size=4096)\n",
    "        \n",
    "            user_auc_scores.append(roc_auc_score(expected, predicted))\n",
    "\n",
    "    return sum(user_auc_scores) / len(user_auc_scores)"
   ]
  },
  {
   "cell_type": "code",
   "execution_count": 149,
   "metadata": {},
   "outputs": [],
   "source": [
    "def sample_triplets(triplets, cir_obs, cir_base, random_seed=0):\n",
    "    obs, pos_comp, neg_comp = [], [], []\n",
    "    rng = np.random.RandomState(random_seed)\n",
    "    for i, j, _ in triplets:\n",
    "        obs.append(cir_obs[i])\n",
    "        pos_comp.append(cir_base[j])\n",
    "\n",
    "    neg_comp = cir_base[rng.randint(low=0, high=len(cirs), size=len(triplets))]\n",
    "\n",
    "    return [np.array(obs), np.array(pos_comp), np.array(neg_comp)]"
   ]
  },
  {
   "cell_type": "code",
   "execution_count": 388,
   "metadata": {},
   "outputs": [],
   "source": [
    "def sample_triplets_onetoten(anchor, pos, neg, cir_obs, cir_base, random_seed=0):\n",
    "    obs, pos_comp, neg_comp = [], [], []\n",
    "    rng = np.random.RandomState(random_seed)\n",
    "    label = []\n",
    "    sample_data = []\n",
    "    # for i in anchor:\n",
    "    #     for j, ks in zip(pos, neg):\n",
    "    for i, js, ks in zip(anchor, pos, neg):\n",
    "        for j, k in zip(js, ks):\n",
    "            k_sample10 = rng.choice(ks, 10)\n",
    "            # sample_data.append([cir_obs[i], cir_base[j], cir_base[k]])\n",
    "            for k in k_sample10:\n",
    "                obs.append(cir_obs[i])\n",
    "                pos_comp.append(cir_base[j])\n",
    "                neg_comp.append(cir_base[k])\n",
    "                label.append(i)\n",
    "\n",
    "    return [label, obs, pos_comp, neg_comp]"
   ]
  },
  {
   "cell_type": "code",
   "execution_count": 387,
   "metadata": {},
   "outputs": [
    {
     "data": {
      "text/plain": [
       "array([  0,   0, 399], dtype=int64)"
      ]
     },
     "execution_count": 387,
     "metadata": {},
     "output_type": "execute_result"
    }
   ],
   "source": [
    "triplets[0]"
   ]
  },
  {
   "cell_type": "code",
   "execution_count": 390,
   "metadata": {},
   "outputs": [],
   "source": [
    "anchor, pos, neg = sample_triplets(triplets, cirs_obs_complex, cirs_complex)"
   ]
  },
  {
   "cell_type": "code",
   "execution_count": 391,
   "metadata": {},
   "outputs": [],
   "source": [
    "label, anchor, pos, neg = sample_triplets_onetoten(anchor_idx, pos_idx, neg_idx, cirs_obs_complex, cirs_complex)"
   ]
  },
  {
   "cell_type": "code",
   "execution_count": 403,
   "metadata": {},
   "outputs": [
    {
     "data": {
      "text/plain": [
       "26075"
      ]
     },
     "execution_count": 403,
     "metadata": {},
     "output_type": "execute_result"
    },
    {
     "data": {
      "image/png": "[encoded data removed]",
      "text/plain": [
       "<Figure size 640x480 with 3 Axes>"
      ]
     },
     "metadata": {},
     "output_type": "display_data"
    }
   ],
   "source": [
    "ind = np.random.randint(len(anchor))\n",
    "\n",
    "fig, axs = plt.subplots(3,1)\n",
    "axs[0].plot(anchor[ind])\n",
    "axs[1].plot(pos[ind])\n",
    "axs[2].plot(neg[ind])\n",
    "ind"
   ]
  },
  {
   "cell_type": "code",
   "execution_count": 404,
   "metadata": {},
   "outputs": [],
   "source": [
    "class ComplexDense(layers.Layer):\n",
    "    def __init__(self, n_input, activation='relu'):\n",
    "        super().__init__()\n",
    "        self.complex_real = Dense(n_input, activation=activation)\n",
    "        self.complex_imag = Dense(n_input, activation=activation)\n",
    "\n",
    "    def call(self, input):\n",
    "        input_real = tf.math.real(input)\n",
    "        input_img = tf.math.imag(input)\n",
    "        return self.complex_real(input_real) - self.complex_imag(input_img) + 1j * (self.complex_real(input_img) + self.complex_imag(input_real))\n",
    "\n",
    "class TripletModel(Model):\n",
    "    def __init__(self, n_observation, n_comparison, margin=1., latent_dim=64, l2_reg=None):\n",
    "        super().__init__(name=\"TripletModel\")\n",
    "        \n",
    "        self.margin = margin\n",
    "        \n",
    "        l2_reg = None if l2_reg == 0 else l2(l2_reg)\n",
    "        # self.obs_layer = Embedding(n_observation, n_observation,\n",
    "        #                             name='obs_embedding',\n",
    "        #                             embeddings_regularizer=l2_reg)\n",
    "        # self.comp_layer = Embedding(n_comparison, n_comparison,\n",
    "        #                     name='comp_embedding',\n",
    "        #                     embeddings_regularizer=l2_reg)\n",
    "        self.normalization = LayerNormalization()\n",
    "\n",
    "        self.dot = Dot(axes=1, normalize=True)\n",
    "\n",
    "        self.margin_loss = MarginLoss(margin)\n",
    "\n",
    "        self.dense_1 = Dense(n_observation, activation='relu')\n",
    "        self.dense_2 = Dense(n_comparison, activation='relu')\n",
    "\n",
    "        self.n_obs = n_observation\n",
    "        self.n_comp = n_comparison\n",
    "        \n",
    "    def call(self, inputs, training=False):\n",
    "        obs_input, pos_input, neg_input = inputs[0], inputs[1], inputs[2]\n",
    "\n",
    "        # self.normalization.adapt(obs_input)\n",
    "        # obs_nmlz = self.normalization(obs_input)\n",
    "        # pos_nmlz = self.normalization(pos_input)\n",
    "        # neg_nmlz = self.normalization(neg_input)\n",
    "        # a = obs.nmlz.real\n",
    "\n",
    "        # latent feature\n",
    "        obs = self.dense_1(obs_input)\n",
    "        pos = self.dense_2(pos_input) \n",
    "        neg = self.dense_2(neg_input) \n",
    "\n",
    "        # obs /= tf.norm(obs)\n",
    "        # pos /= tf.norm(pos)\n",
    "        # neg /= tf.norm(neg)\n",
    "        \n",
    "        # Similarity computation between embeddings\n",
    "        pos_similarity = self.dot([obs, pos])\n",
    "        neg_similarity = self.dot([obs, neg])\n",
    "                \n",
    "        return self.margin_loss([pos_similarity, neg_similarity])\n",
    "    \n",
    "    def model(self):\n",
    "        x = Input(shape=(self.n_obs))\n",
    "        y = Input(shape=(self.n_comp))\n",
    "        z = Input(shape=(self.n_comp))\n",
    "        return Model(inputs=[x, y, z], outputs=self.call(x))"
   ]
  },
  {
   "cell_type": "code",
   "execution_count": 416,
   "metadata": {},
   "outputs": [],
   "source": [
    "class ComplexTriplet(Model):\n",
    "    def __init__(self, n_observation, n_comparison, margin=1., latent_dim=64, l2_reg=None):\n",
    "        super().__init__(name=\"ComplexTripletModel\")\n",
    "        \n",
    "        self.margin = margin\n",
    "        \n",
    "        l2_reg = None if l2_reg == 0 else l2(l2_reg)\n",
    "        # self.obs_layer = Embedding(n_observation, n_observation,\n",
    "        #                             name='obs_embedding',\n",
    "        #                             embeddings_regularizer=l2_reg)\n",
    "        # self.comp_layer = Embedding(n_comparison, n_comparison,\n",
    "        #                     name='comp_embedding',\n",
    "        #                     embeddings_regularizer=l2_reg)\n",
    "        # self.normalization = LayerNormalization()\n",
    "\n",
    "        self.dot = Dot(axes=1, normalize=True)\n",
    "\n",
    "        self.margin_loss = MarginLoss(margin)\n",
    "\n",
    "        self.flatten = Flatten()\n",
    "\n",
    "        self.dense_1 = Dense(n_observation, activation='sigmoid')\n",
    "        self.dense_2 = Dense(n_comparison, activation='sigmoid')\n",
    "\n",
    "        self.n_obs = n_observation\n",
    "        self.n_comp = n_comparison\n",
    "        \n",
    "    def call(self, inputs, training=False):\n",
    "        obs_input, pos_input, neg_input = inputs[0], inputs[1], inputs[2]\n",
    "\n",
    "        # self.normalization.adapt(obs_input)\n",
    "        # obs_nmlz = self.normalization(obs_input)\n",
    "        # pos_nmlz = self.normalization(pos_input)\n",
    "        # neg_nmlz = self.normalization(neg_input)\n",
    "        # a = obs.nmlz.real\n",
    "        obs_nmlz = self.flatten(obs_input)\n",
    "        pos_nmlz = self.flatten(pos_input)\n",
    "        neg_nmlz = self.flatten(neg_input)\n",
    "        # latent feature\n",
    "        obs = self.dense_1(obs_nmlz)\n",
    "        pos = self.dense_2(pos_nmlz) \n",
    "        neg = self.dense_2(neg_nmlz) \n",
    "\n",
    "        # obs /= tf.norm(obs)\n",
    "        # pos /= tf.norm(pos)\n",
    "        # neg /= tf.norm(neg)\n",
    "        \n",
    "        # Similarity computation between embeddings\n",
    "        pos_similarity = self.dot([obs, pos]) * self.n_obs * self.n_comp\n",
    "        neg_similarity = self.dot([obs, neg]) * self.n_obs * self.n_comp\n",
    "                \n",
    "        return self.margin_loss([pos_similarity, neg_similarity])\n",
    "    \n",
    "    def model(self):\n",
    "        x = Input(shape=(self.n_obs, 2))\n",
    "        y = Input(shape=(self.n_comp, 2))\n",
    "        z = Input(shape=(self.n_comp, 2))\n",
    "        return Model(inputs=[x, y, z], outputs=self.call([x, y, z]))"
   ]
  },
  {
   "cell_type": "code",
   "execution_count": 420,
   "metadata": {},
   "outputs": [],
   "source": [
    "class DistanceModel(Model):\n",
    "    def __init__(self, TModel):\n",
    "        super().__init__(name=\"distance_measure\")\n",
    "\n",
    "        self.dot = Dot(axes=1, normalize=True)\n",
    "\n",
    "        self.flatten = Flatten()\n",
    "\n",
    "        self.dense_1 = TModel.dense_1\n",
    "        self.dense_2 = TModel.dense_2\n",
    "\n",
    "        \n",
    "    def predict(self, inputs):\n",
    "        obs_input, comp_input = inputs[0], inputs[1]\n",
    "\n",
    "        # self.normalization.adapt(obs_input)\n",
    "        obs_flatten = self.flatten(obs_input)\n",
    "        comp_flatten = self.flatten(comp_input)\n",
    "        # latent feature\n",
    "        obs = self.dense_1(obs_flatten)\n",
    "        comp = self.dense_2(comp_flatten)\n",
    "        \n",
    "        return self.dot([obs, comp])\n",
    "    \n",
    "    def model(self):\n",
    "        x = Input(shape=(675, 2))\n",
    "        y = Input(shape=(675, 2))\n",
    "        # z = Input(shape=(self.n_comp, 2))\n",
    "        return Model(inputs=[x, y], outputs=self.call([x, y]))"
   ]
  },
  {
   "cell_type": "code",
   "execution_count": 170,
   "metadata": {},
   "outputs": [
    {
     "name": "stdout",
     "output_type": "stream",
     "text": [
      "[name: \"/device:CPU:0\"\n",
      "device_type: \"CPU\"\n",
      "memory_limit: 268435456\n",
      "locality {\n",
      "}\n",
      "incarnation: 6825444282536542326\n",
      "xla_global_id: -1\n",
      "]\n"
     ]
    }
   ],
   "source": [
    "from tensorflow.python.client import device_lib\n",
    "print(device_lib.list_local_devices())"
   ]
  },
  {
   "cell_type": "code",
   "execution_count": 82,
   "metadata": {},
   "outputs": [],
   "source": [
    "from sklearn.model_selection import train_test_split"
   ]
  },
  {
   "cell_type": "code",
   "execution_count": 414,
   "metadata": {},
   "outputs": [],
   "source": [
    "data_train, data_val, label_train, label_val = train_test_split(np.stack([anchor, pos, neg], -1), label, train_size=.75, random_state=0)\n",
    "data_train, data_test, label_train_2, label_test = train_test_split(data_train, label_train, train_size=.9, random_state=0)"
   ]
  },
  {
   "cell_type": "code",
   "execution_count": 415,
   "metadata": {},
   "outputs": [],
   "source": [
    "anchor_train, anchor_test, anchor_val = data_train[:, :, :, 0], data_test[:, :, :, 0], data_val[:, :, :, 0]\n",
    "pos_train, pos_test, pos_val = data_train[:, :, :, 1], data_test[:, :, :, 1], data_val[:, :, :, 1]\n",
    "neg_train, neg_test, neg_val = data_train[:, :, :, 2], data_test[:, :, :, 2], data_val[:, :, :, 2]"
   ]
  },
  {
   "cell_type": "code",
   "execution_count": 417,
   "metadata": {},
   "outputs": [
    {
     "name": "stdout",
     "output_type": "stream",
     "text": [
      "Epoch 1/20\n",
      "844/844 [==============================] - 11s 12ms/step - loss: 1.9997 - val_loss: 1.9913\n",
      "Epoch 2/20\n",
      "844/844 [==============================] - 10s 12ms/step - loss: 1.9957 - val_loss: 2.0026\n",
      "Epoch 3/20\n",
      "844/844 [==============================] - 11s 13ms/step - loss: 1.9921 - val_loss: 1.9988\n",
      "Epoch 4/20\n",
      "844/844 [==============================] - 11s 13ms/step - loss: 1.9891 - val_loss: 1.9946\n",
      "Epoch 5/20\n",
      "844/844 [==============================] - 11s 13ms/step - loss: 1.9838 - val_loss: 1.9848\n",
      "Epoch 6/20\n",
      "844/844 [==============================] - 11s 13ms/step - loss: 1.9750 - val_loss: 1.9849\n",
      "Epoch 7/20\n",
      "844/844 [==============================] - 10s 12ms/step - loss: 1.9644 - val_loss: 1.9754\n",
      "Epoch 8/20\n",
      "844/844 [==============================] - 10s 12ms/step - loss: 1.9484 - val_loss: 1.9872\n",
      "Epoch 9/20\n",
      "844/844 [==============================] - 10s 12ms/step - loss: 1.9335 - val_loss: 1.9820\n",
      "Epoch 10/20\n",
      "844/844 [==============================] - 10s 12ms/step - loss: 1.9213 - val_loss: 1.9779\n",
      "Epoch 11/20\n",
      "844/844 [==============================] - 11s 13ms/step - loss: 1.9144 - val_loss: 1.9802\n",
      "Epoch 12/20\n",
      "844/844 [==============================] - 11s 13ms/step - loss: 1.9120 - val_loss: 1.9675\n",
      "Epoch 13/20\n",
      "844/844 [==============================] - 11s 13ms/step - loss: 1.9039 - val_loss: 1.9683\n",
      "Epoch 14/20\n",
      "844/844 [==============================] - 11s 13ms/step - loss: 1.8982 - val_loss: 1.9561\n",
      "Epoch 15/20\n",
      "844/844 [==============================] - 11s 13ms/step - loss: 1.8950 - val_loss: 1.9502\n",
      "Epoch 16/20\n",
      "844/844 [==============================] - 10s 12ms/step - loss: 1.8895 - val_loss: 1.9558\n",
      "Epoch 17/20\n",
      "844/844 [==============================] - 10s 12ms/step - loss: 1.8858 - val_loss: 1.9429\n",
      "Epoch 18/20\n",
      "844/844 [==============================] - 10s 12ms/step - loss: 1.8815 - val_loss: 1.9321\n",
      "Epoch 19/20\n",
      "844/844 [==============================] - 11s 13ms/step - loss: 1.8787 - val_loss: 1.9371\n",
      "Epoch 20/20\n",
      "844/844 [==============================] - 11s 13ms/step - loss: 1.8766 - val_loss: 1.9322\n"
     ]
    },
    {
     "data": {
      "text/plain": [
       "<keras.callbacks.History at 0x2529f916f70>"
      ]
     },
     "execution_count": 417,
     "metadata": {},
     "output_type": "execute_result"
    }
   ],
   "source": [
    "history = History()\n",
    "\n",
    "fake_y = np.ones(len(anchor_train))\n",
    "\n",
    "dim_obs = cirs_obs.shape[1]\n",
    "dim_comp = cirs.shape[1]\n",
    "\n",
    "triplet_model = None\n",
    "triplet_model = ComplexTriplet(dim_obs, dim_comp, l2_reg=1e-6, margin=2)\n",
    "\n",
    "triplet_model.compile(loss=identity_loss, optimizer=\"SGD\")\n",
    "\n",
    "n_epochs = 20\n",
    "batch_size = 64\n",
    "\n",
    "# for i in range(n_epochs):\n",
    "#     # Sample new negatives to build different triplets at each epoch\n",
    "#     # triplet_inputs = sample_triplets(triplets, cirs_obs_complex, cirs_complex, random_seed=i)\n",
    "#     # triplet_model.fit(x=triplet_inputs, y=np.ones(len(cirs)), shuffle=True,\n",
    "#     #                   batch_size=32, epochs=1, callbacks=[history])\n",
    "\n",
    "#     # Fit the model incrementally by doing a single pass over the\n",
    "#     # sampled triplets.\n",
    "sampled_inputs = [anchor_train, pos_train, neg_train]\n",
    "validation_inputs = [anchor_test, pos_test, neg_test]\n",
    "validation_y_fake = np.ones(len(anchor_test))\n",
    "\n",
    "triplet_model.fit(x=sampled_inputs, y=fake_y, shuffle=True,\n",
    "                    batch_size=32, epochs=20, callbacks=[history], validation_data=[validation_inputs, validation_y_fake])"
   ]
  },
  {
   "cell_type": "code",
   "execution_count": 268,
   "metadata": {},
   "outputs": [
    {
     "name": "stdout",
     "output_type": "stream",
     "text": [
      "Model: \"model_7\"\n",
      "__________________________________________________________________________________________________\n",
      " Layer (type)                   Output Shape         Param #     Connected to                     \n",
      "==================================================================================================\n",
      " input_27 (InputLayer)          [(None, 675, 2)]     0           []                               \n",
      "                                                                                                  \n",
      " input_28 (InputLayer)          [(None, 675, 2)]     0           []                               \n",
      "                                                                                                  \n",
      " input_29 (InputLayer)          [(None, 675, 2)]     0           []                               \n",
      "                                                                                                  \n",
      " flatten_41 (Flatten)           (None, 1350)         0           ['input_27[0][0]',               \n",
      "                                                                  'input_28[0][0]',               \n",
      "                                                                  'input_29[0][0]']               \n",
      "                                                                                                  \n",
      " dense_58 (Dense)               (None, 675)          911925      ['flatten_41[0][0]']             \n",
      "                                                                                                  \n",
      " dense_59 (Dense)               (None, 675)          911925      ['flatten_41[1][0]',             \n",
      "                                                                  'flatten_41[2][0]']             \n",
      "                                                                                                  \n",
      " dot_51 (Dot)                   (None, 1)            0           ['dense_58[0][0]',               \n",
      "                                                                  'dense_59[0][0]',               \n",
      "                                                                  'dense_58[0][0]',               \n",
      "                                                                  'dense_59[1][0]']               \n",
      "                                                                                                  \n",
      " tf.math.multiply (TFOpLambda)  (None, 1)            0           ['dot_51[0][0]']                 \n",
      "                                                                                                  \n",
      " tf.math.multiply_2 (TFOpLambda  (None, 1)           0           ['dot_51[1][0]']                 \n",
      " )                                                                                                \n",
      "                                                                                                  \n",
      " tf.math.multiply_1 (TFOpLambda  (None, 1)           0           ['tf.math.multiply[0][0]']       \n",
      " )                                                                                                \n",
      "                                                                                                  \n",
      " tf.math.multiply_3 (TFOpLambda  (None, 1)           0           ['tf.math.multiply_2[0][0]']     \n",
      " )                                                                                                \n",
      "                                                                                                  \n",
      " margin_loss_29 (MarginLoss)    (None, 1)            0           ['tf.math.multiply_1[0][0]',     \n",
      "                                                                  'tf.math.multiply_3[0][0]']     \n",
      "                                                                                                  \n",
      "==================================================================================================\n",
      "Total params: 1,823,850\n",
      "Trainable params: 1,823,850\n",
      "Non-trainable params: 0\n",
      "__________________________________________________________________________________________________\n"
     ]
    }
   ],
   "source": [
    "triplet_model.model().summary()"
   ]
  },
  {
   "cell_type": "code",
   "execution_count": 418,
   "metadata": {},
   "outputs": [
    {
     "data": {
      "text/plain": [
       "<matplotlib.legend.Legend at 0x2529fa874f0>"
      ]
     },
     "execution_count": 418,
     "metadata": {},
     "output_type": "execute_result"
    },
    {
     "data": {
      "image/png": "[encoded data removed]",
      "text/plain": [
       "<Figure size 640x480 with 1 Axes>"
      ]
     },
     "metadata": {},
     "output_type": "display_data"
    }
   ],
   "source": [
    "plt.plot(history.history['loss'])\n",
    "plt.plot(history.history['val_loss'])\n",
    "plt.legend(['loss', 'val_loss'])"
   ]
  },
  {
   "cell_type": "code",
   "execution_count": 419,
   "metadata": {},
   "outputs": [
    {
     "name": "stdout",
     "output_type": "stream",
     "text": [
      "94/94 [==============================] - 1s 6ms/step\n",
      "94/94 [==============================] - 1s 7ms/step\n"
     ]
    }
   ],
   "source": [
    "out = triplet_model.predict([anchor_test, pos_test, neg_test])\n",
    "out2 = triplet_model.predict([anchor_test, neg_test, pos_test])"
   ]
  },
  {
   "cell_type": "code",
   "execution_count": 231,
   "metadata": {},
   "outputs": [],
   "source": []
  },
  {
   "cell_type": "code",
   "execution_count": 222,
   "metadata": {},
   "outputs": [
    {
     "name": "stdout",
     "output_type": "stream",
     "text": [
      "Model: \"model_4\"\n",
      "__________________________________________________________________________________________________\n",
      " Layer (type)                   Output Shape         Param #     Connected to                     \n",
      "==================================================================================================\n",
      " input_20 (InputLayer)          [(None, 675, 2)]     0           []                               \n",
      "                                                                                                  \n",
      " input_21 (InputLayer)          [(None, 675, 2)]     0           []                               \n",
      "                                                                                                  \n",
      " input_22 (InputLayer)          [(None, 675, 2)]     0           []                               \n",
      "                                                                                                  \n",
      " flatten_26 (Flatten)           multiple             0           ['input_20[0][0]',               \n",
      "                                                                  'input_21[0][0]',               \n",
      "                                                                  'input_22[0][0]']               \n",
      "                                                                                                  \n",
      " dense_52 (Dense)               (None, 675)          911925      ['flatten_26[10][0]']            \n",
      "                                                                                                  \n",
      " dense_53 (Dense)               (None, 675)          911925      ['flatten_26[11][0]',            \n",
      "                                                                  'flatten_26[12][0]']            \n",
      "                                                                                                  \n",
      " dot_26 (Dot)                   (None, 1)            0           ['dense_52[3][0]',               \n",
      "                                                                  'dense_53[6][0]',               \n",
      "                                                                  'dense_52[3][0]',               \n",
      "                                                                  'dense_53[7][0]']               \n",
      "                                                                                                  \n",
      " margin_loss_26 (MarginLoss)    (None, 1)            0           ['dot_26[6][0]',                 \n",
      "                                                                  'dot_26[7][0]']                 \n",
      "                                                                                                  \n",
      "==================================================================================================\n",
      "Total params: 1,823,850\n",
      "Trainable params: 1,823,850\n",
      "Non-trainable params: 0\n",
      "__________________________________________________________________________________________________\n"
     ]
    }
   ],
   "source": [
    "triplet_model.model().summary()"
   ]
  },
  {
   "cell_type": "code",
   "execution_count": 421,
   "metadata": {},
   "outputs": [],
   "source": [
    "dm = DistanceModel(triplet_model)"
   ]
  },
  {
   "cell_type": "code",
   "execution_count": 227,
   "metadata": {},
   "outputs": [
    {
     "name": "stdout",
     "output_type": "stream",
     "text": [
      "Model: \"model_6\"\n",
      "__________________________________________________________________________________________________\n",
      " Layer (type)                   Output Shape         Param #     Connected to                     \n",
      "==================================================================================================\n",
      " input_25 (InputLayer)          [(None, 675, 2)]     0           []                               \n",
      "                                                                                                  \n",
      " input_26 (InputLayer)          [(None, 675, 2)]     0           []                               \n",
      "                                                                                                  \n",
      " flatten_27 (Flatten)           (None, 1350)         0           ['input_25[0][0]',               \n",
      "                                                                  'input_26[0][0]']               \n",
      "                                                                                                  \n",
      " dense_52 (Dense)               (None, 675)          911925      ['flatten_27[0][0]']             \n",
      "                                                                                                  \n",
      " dense_53 (Dense)               (None, 675)          911925      ['flatten_27[1][0]']             \n",
      "                                                                                                  \n",
      " dot_38 (Dot)                   (None, 1)            0           ['dense_52[5][0]',               \n",
      "                                                                  'dense_53[9][0]']               \n",
      "                                                                                                  \n",
      "==================================================================================================\n",
      "Total params: 1,823,850\n",
      "Trainable params: 1,823,850\n",
      "Non-trainable params: 0\n",
      "__________________________________________________________________________________________________\n"
     ]
    }
   ],
   "source": [
    "dm.model().summary()"
   ]
  },
  {
   "cell_type": "code",
   "execution_count": 234,
   "metadata": {},
   "outputs": [
    {
     "name": "stderr",
     "output_type": "stream",
     "text": [
      "Traceback (most recent call last):\n",
      "  File \"C:\\Users\\11740\\AppData\\Local\\Temp\\ipykernel_2884\\299294513.py\", line 4, in <module>\n",
      "    raise Exception(\"ERROR HERE\") # Some code that caused the exception/error\n",
      "Exception: ERROR HERE\n"
     ]
    }
   ],
   "source": [
    "import traceback\n",
    "try:\n",
    "    \n",
    "    raise Exception(\"ERROR HERE\") # Some code that caused the exception/error\n",
    "except:\n",
    "    traceback.print_exc()\n",
    "\n"
   ]
  },
  {
   "cell_type": "code",
   "execution_count": 237,
   "metadata": {},
   "outputs": [],
   "source": [
    "t = .predict(np.expand_dims([anchor_test[0], pos_test[0]], axis=1))\n"
   ]
  },
  {
   "cell_type": "code",
   "execution_count": 422,
   "metadata": {},
   "outputs": [],
   "source": [
    "ss = []\n",
    "dm = DistanceModel(triplet_model)\n",
    "for c in cirs_obs_complex:\n",
    "    score_tmp = dm.predict(np.expand_dims([anchor_test[0], c], axis=1))\n",
    "    ss.append(score_tmp.numpy()[0][0])"
   ]
  },
  {
   "cell_type": "code",
   "execution_count": 425,
   "metadata": {},
   "outputs": [
    {
     "data": {
      "text/plain": [
       "((3000,), (3000, 675, 2))"
      ]
     },
     "execution_count": 425,
     "metadata": {},
     "output_type": "execute_result"
    }
   ],
   "source": [
    "np.shape(label_test), np.shape(anchor_test)"
   ]
  },
  {
   "cell_type": "code",
   "execution_count": 480,
   "metadata": {},
   "outputs": [
    {
     "data": {
      "text/plain": [
       "<matplotlib.image.AxesImage at 0x252a00a3160>"
      ]
     },
     "execution_count": 480,
     "metadata": {},
     "output_type": "execute_result"
    },
    {
     "data": {
      "image/png": "[encoded data removed]",
      "text/plain": [
       "<Figure size 640x480 with 1 Axes>"
      ]
     },
     "metadata": {},
     "output_type": "display_data"
    }
   ],
   "source": [
    "ss = []\n",
    "ind = np.random.randint(len(anchor_test))\n",
    "dm = DistanceModel(triplet_model)\n",
    "for c in cirs_obs_complex:\n",
    "    score_tmp = dm.predict(np.expand_dims([anchor_test[ind], c], axis=1))\n",
    "    ss.append(score_tmp.numpy()[0][0])\n",
    "\n",
    "img = np.reshape(ss, (20, 20))\n",
    "i, j = label_test[ind]//20, label_test[ind]%20\n",
    "plt.scatter(i, j, c='red', marker='*')\n",
    "plt.imshow(img, cmap='gray')\n"
   ]
  },
  {
   "cell_type": "markdown",
   "metadata": {},
   "source": []
  },
  {
   "cell_type": "code",
   "execution_count": 67,
   "metadata": {},
   "outputs": [],
   "source": [
    "ind = np.random.choice(len(triplet_inputs[0]))\n",
    "anchor_test, pos_test, neg_test = triplet_inputs[0][ind], triplet_inputs[1][ind], triplet_inputs[2][ind]"
   ]
  },
  {
   "cell_type": "code",
   "execution_count": 518,
   "metadata": {},
   "outputs": [],
   "source": [
    "class MLP(layers.Layer):\n",
    "    def __init__(self, n_hidden=1, hidden_size=64, dropout=0.,\n",
    "                 l2_reg=None):\n",
    "        super().__init__()\n",
    "\n",
    "        # self.layers = [Dropout(dropout)]\n",
    "        self.layers=[]\n",
    "\n",
    "        for _ in range(n_hidden):\n",
    "            self.layers.append(Dense(hidden_size, activation=\"relu\",\n",
    "                                     kernel_regularizer=l2_reg))\n",
    "            # self.layers.append(Dropout(dropout))\n",
    "\n",
    "        self.layers.append(Dense(1, activation=\"sigmoid\",\n",
    "                                 kernel_regularizer=l2_reg))\n",
    "\n",
    "    def call(self, x, training=False):\n",
    "        for layer in self.layers:\n",
    "            # if isinstance(layer, Dropout):\n",
    "            #     x = layer(x, training=training)\n",
    "            # else:\n",
    "                x = layer(x)\n",
    "        return x\n",
    "    \n",
    "\n",
    "class DeepTripletModel(Model):\n",
    "    def __init__(self, n_users, n_items, user_dim=32, item_dim=64, margin=1.,\n",
    "                 n_hidden=1, hidden_size=64, dropout=0, l2_reg=None):\n",
    "        super().__init__()\n",
    "\n",
    "        l2_reg = None if l2_reg == 0 else l2(l2_reg)\n",
    "\n",
    "        self.flatten = Flatten()\n",
    "        self.concat = Concatenate(axis=0)\n",
    "        # self.dense = Dense(1, activation='sigmoid')\n",
    "        self.mlp = MLP(n_hidden, hidden_size, dropout, l2_reg)\n",
    "\n",
    "        self.margin_loss = MarginLoss(margin)\n",
    "\n",
    "    def call(self, inputs):\n",
    "        obs = inputs[0]\n",
    "        pos = inputs[1]\n",
    "        neg = inputs[2]\n",
    "\n",
    "        # Similarity computation between embeddings\n",
    "        pos_embeddings_pair = self.concat([obs, pos])\n",
    "        neg_embeddings_pair = self.concat([obs, neg])\n",
    "\n",
    "        pos_embeddings_pair /= tf.norm(pos_embeddings_pair)\n",
    "        neg_embeddings_pair /= tf.norm(neg_embeddings_pair)\n",
    "\n",
    "        pos_embeddings_pair = self.flatten(pos_embeddings_pair)\n",
    "        neg_embeddings_pair = self.flatten(neg_embeddings_pair)\n",
    "\n",
    "        pos_similarity = self.mlp(pos_embeddings_pair)\n",
    "        neg_similarity = self.mlp(neg_embeddings_pair)\n",
    "\n",
    "        # pos_similarity = self.dense(pos_similarity)\n",
    "        # neg_similarity = self.dense(neg_similarity)\n",
    "\n",
    "        return self.margin_loss([pos_similarity, neg_similarity])\n",
    "    \n",
    "    def model(self):\n",
    "        x = Input(shape=(675, 2))\n",
    "        y = Input(shape=(675, 2))\n",
    "        z = Input(shape=(675, 2))\n",
    "        return Model(inputs=[x, y, z], outputs=self.call([x, y, z]))"
   ]
  },
  {
   "cell_type": "code",
   "execution_count": null,
   "metadata": {},
   "outputs": [],
   "source": [
    "deep_triplet_model.concat"
   ]
  },
  {
   "cell_type": "code",
   "execution_count": 527,
   "metadata": {},
   "outputs": [],
   "source": [
    "class DeepDistanceModel(Model):\n",
    "    def __init__(self, DTModel):\n",
    "        super().__init__(name=\"deep_distance_measure\")\n",
    "        \n",
    "        self.flatten = Flatten()\n",
    "        self.concat = DTModel.concat\n",
    "        self.mlp = DTModel.mlp\n",
    "        # self.dense = DTModel.dense\n",
    "        \n",
    "    def predict(self, inputs):\n",
    "        obs, comp = inputs[0], inputs[1]\n",
    "        x = self.concat([obs, comp])\n",
    "        x /= tf.norm(x)\n",
    "        x = self.flatten(x)\n",
    "        x = self.mlp(x)         \n",
    "        # out = self.dense(x)      \n",
    "        return x\n",
    "    \n",
    "    def model(self):\n",
    "        x = Input(shape=(675, 2))\n",
    "        # z = Input(shape=(self.n_comp, 2))\n",
    "        return Model(inputs=x, outputs=self.predict(x))"
   ]
  },
  {
   "cell_type": "code",
   "execution_count": 515,
   "metadata": {},
   "outputs": [
    {
     "name": "stdout",
     "output_type": "stream",
     "text": [
      "844/844 [==============================] - 3s 3ms/step - loss: 2.0000 - val_loss: 2.0000\n"
     ]
    },
    {
     "data": {
      "text/plain": [
       "<keras.callbacks.History at 0x2529c4f47f0>"
      ]
     },
     "execution_count": 515,
     "metadata": {},
     "output_type": "execute_result"
    }
   ],
   "source": [
    "deep_triplet_model_2 = DeepTripletModel(dim_obs, dim_comp, margin=2,\n",
    "                                      **hyper_parameters)\n",
    "\n",
    "deep_triplet_model_2.compile(loss=identity_loss, optimizer='adam')\n",
    "deep_triplet_model_2.fit(x=triplet_inputs, y=fake_y, shuffle=True,\n",
    "                    batch_size=32, epochs=1, callbacks=[deep_history], validation_data=[validation_inputs, validation_y_fake])"
   ]
  },
  {
   "cell_type": "code",
   "execution_count": 522,
   "metadata": {},
   "outputs": [
    {
     "name": "stdout",
     "output_type": "stream",
     "text": [
      "Epoch 1/20\n",
      "844/844 [==============================] - 2s 3ms/step - loss: 1.9984 - val_loss: 1.9965\n",
      "Epoch 2/20\n",
      "844/844 [==============================] - 2s 2ms/step - loss: 1.9853 - val_loss: 1.9883\n",
      "Epoch 3/20\n",
      "844/844 [==============================] - 2s 2ms/step - loss: 1.9725 - val_loss: 1.9830\n",
      "Epoch 4/20\n",
      "844/844 [==============================] - 2s 2ms/step - loss: 1.9658 - val_loss: 1.9796\n",
      "Epoch 5/20\n",
      "844/844 [==============================] - 2s 2ms/step - loss: 1.9615 - val_loss: 1.9783\n",
      "Epoch 6/20\n",
      "844/844 [==============================] - 2s 2ms/step - loss: 1.9586 - val_loss: 1.9776\n",
      "Epoch 7/20\n",
      "844/844 [==============================] - 2s 3ms/step - loss: 1.9565 - val_loss: 1.9763\n",
      "Epoch 8/20\n",
      "844/844 [==============================] - 2s 2ms/step - loss: 1.9546 - val_loss: 1.9756\n",
      "Epoch 9/20\n",
      "844/844 [==============================] - 2s 2ms/step - loss: 1.9533 - val_loss: 1.9752\n",
      "Epoch 10/20\n",
      "844/844 [==============================] - 2s 2ms/step - loss: 1.9521 - val_loss: 1.9755\n",
      "Epoch 11/20\n",
      "844/844 [==============================] - 2s 2ms/step - loss: 1.9514 - val_loss: 1.9737\n",
      "Epoch 12/20\n",
      "844/844 [==============================] - 2s 2ms/step - loss: 1.9505 - val_loss: 1.9727\n",
      "Epoch 13/20\n",
      "844/844 [==============================] - 2s 2ms/step - loss: 1.9498 - val_loss: 1.9719\n",
      "Epoch 14/20\n",
      "844/844 [==============================] - 2s 2ms/step - loss: 1.9491 - val_loss: 1.9717\n",
      "Epoch 15/20\n",
      "844/844 [==============================] - 2s 2ms/step - loss: 1.9490 - val_loss: 1.9706\n",
      "Epoch 16/20\n",
      "844/844 [==============================] - 2s 2ms/step - loss: 1.9482 - val_loss: 1.9708\n",
      "Epoch 17/20\n",
      "844/844 [==============================] - 2s 2ms/step - loss: 1.9482 - val_loss: 1.9706\n",
      "Epoch 18/20\n",
      "844/844 [==============================] - 2s 2ms/step - loss: 1.9478 - val_loss: 1.9699\n",
      "Epoch 19/20\n",
      "844/844 [==============================] - 2s 2ms/step - loss: 1.9477 - val_loss: 1.9698\n",
      "Epoch 20/20\n",
      "844/844 [==============================] - 2s 2ms/step - loss: 1.9474 - val_loss: 1.9697\n"
     ]
    },
    {
     "data": {
      "text/plain": [
       "<keras.callbacks.History at 0x252a5a57340>"
      ]
     },
     "execution_count": 522,
     "metadata": {},
     "output_type": "execute_result"
    }
   ],
   "source": [
    "hyper_parameters = dict(\n",
    "    n_hidden=1,\n",
    "    hidden_size=64,\n",
    "    dropout=0.1,\n",
    "    l2_reg=0.,\n",
    ")\n",
    "deep_triplet_model = DeepTripletModel(dim_obs, dim_comp, margin=2,\n",
    "                                      **hyper_parameters)\n",
    "\n",
    "deep_triplet_model.compile(loss=identity_loss, optimizer='adam')\n",
    "# fake_y = np.ones_like(pos_data_train['user_id'])\n",
    "\n",
    "deep_history = History()\n",
    "triplet_inputs = [anchor_train, pos_train, neg_train]\n",
    "validation_inputs = [anchor_test, pos_test, neg_test]\n",
    "validation_y_fake = np.ones(len(anchor_test))\n",
    "deep_triplet_model.fit(x=triplet_inputs, y=fake_y, shuffle=True,\n",
    "                    batch_size=32, epochs=20, callbacks=[deep_history], validation_data=[validation_inputs, validation_y_fake])"
   ]
  },
  {
   "cell_type": "code",
   "execution_count": 521,
   "metadata": {},
   "outputs": [
    {
     "data": {
      "text/plain": [
       "<matplotlib.legend.Legend at 0x252a5a94430>"
      ]
     },
     "execution_count": 521,
     "metadata": {},
     "output_type": "execute_result"
    },
    {
     "data": {
      "image/png": "[encoded data removed]",
      "text/plain": [
       "<Figure size 640x480 with 1 Axes>"
      ]
     },
     "metadata": {},
     "output_type": "display_data"
    }
   ],
   "source": [
    "plt.plot(deep_history.history['loss'])\n",
    "plt.plot(deep_history.history['val_loss'])\n",
    "plt.legend(['training loss', 'val loss'])"
   ]
  },
  {
   "cell_type": "code",
   "execution_count": 467,
   "metadata": {},
   "outputs": [],
   "source": [
    "ss = []\n",
    "dm = DeepDistanceModel(deep_triplet_model)\n",
    "for c in cirs_obs_complex:\n",
    "    score_tmp = dm.predict(np.expand_dims([anchor_test[0], c], axis=1))\n",
    "    ss.append(score_tmp.numpy()[0][0])"
   ]
  },
  {
   "cell_type": "code",
   "execution_count": 539,
   "metadata": {},
   "outputs": [
    {
     "data": {
      "text/plain": [
       "<matplotlib.image.AxesImage at 0x252a6184d60>"
      ]
     },
     "execution_count": 539,
     "metadata": {},
     "output_type": "execute_result"
    },
    {
     "data": {
      "image/png": "[encoded data removed]",
      "text/plain": [
       "<Figure size 640x480 with 1 Axes>"
      ]
     },
     "metadata": {},
     "output_type": "display_data"
    }
   ],
   "source": [
    "ss = []\n",
    "ind = np.random.randint(len(anchor_test))\n",
    "# dm = DistanceModel(triplet_model)\n",
    "dm = DeepDistanceModel(deep_triplet_model)\n",
    "for c in cirs_obs_complex:\n",
    "    score_tmp = dm.predict(np.expand_dims([anchor_test[ind], c], axis=1))\n",
    "    ss.append(score_tmp.numpy()[0][0])\n",
    "\n",
    "img = np.reshape(ss, (20, 20))\n",
    "i, j = label_test[ind]//20, label_test[ind]%20\n",
    "plt.scatter(j, i, c='red', marker='*')\n",
    "plt.imshow(img, cmap='gray')\n"
   ]
  },
  {
   "cell_type": "code",
   "execution_count": 469,
   "metadata": {},
   "outputs": [
    {
     "data": {
      "text/plain": [
       "<matplotlib.image.AxesImage at 0x252a03101c0>"
      ]
     },
     "execution_count": 469,
     "metadata": {},
     "output_type": "execute_result"
    },
    {
     "data": {
      "image/png": "[encoded data removed]",
      "text/plain": [
       "<Figure size 640x480 with 1 Axes>"
      ]
     },
     "metadata": {},
     "output_type": "display_data"
    }
   ],
   "source": [
    "img2 = np.reshape(ss, (20, 20))\n",
    "i, j = label_test[0]//20, label_test[0]%20\n",
    "\n",
    "plt.scatter(i, j, c='red', marker='*')\n",
    "plt.imshow(img2)"
   ]
  },
  {
   "cell_type": "code",
   "execution_count": 81,
   "metadata": {},
   "outputs": [
    {
     "name": "stdout",
     "output_type": "stream",
     "text": [
      "938/938 [==============================] - 17s 18ms/step - loss: 2.4876e-10 - val_loss: 2.5671e-10\n",
      "938/938 [==============================] - 17s 18ms/step - loss: 1.2570e-10 - val_loss: 3.1292e-11\n",
      "938/938 [==============================] - 17s 18ms/step - loss: 7.8001e-11 - val_loss: 3.0729e-11\n",
      "938/938 [==============================] - 18s 19ms/step - loss: 5.4317e-11 - val_loss: 3.0466e-11\n",
      "938/938 [==============================] - 22s 23ms/step - loss: 1.9004e-11 - val_loss: 0.0000e+00\n",
      "938/938 [==============================] - 24s 25ms/step - loss: 0.0000e+00 - val_loss: 0.0000e+00\n",
      "938/938 [==============================] - 23s 25ms/step - loss: 0.0000e+00 - val_loss: 0.0000e+00\n",
      "938/938 [==============================] - 20s 22ms/step - loss: 0.0000e+00 - val_loss: 0.0000e+00\n",
      "938/938 [==============================] - 19s 21ms/step - loss: 0.0000e+00 - val_loss: 0.0000e+00\n",
      "938/938 [==============================] - 19s 20ms/step - loss: 0.0000e+00 - val_loss: 0.0000e+00\n"
     ]
    }
   ],
   "source": [
    "for i in range(10):\n",
    "    # Sample new negatives to build different triplets at each epoch\n",
    "    # triplet_inputs = sample_triplets(triplets, cirs_obs, cirs, random_seed=i)\n",
    "\n",
    "    # # Fit the model incrementally by doing a single pass over the\n",
    "    # # sampled triplets.\n",
    "    # deep_triplet_model.fit(x=triplet_inputs, y=fake_y, shuffle=True,\n",
    "    #                   batch_size=32, epochs=1, callbacks=[deep_history])\n",
    "    triplet_inputs = [anchor_train, pos_train, neg_train]\n",
    "    validation_inputs = [anchor_test, pos_test, neg_test]\n",
    "    validation_y_fake = np.ones(len(anchor_test))\n",
    "    deep_triplet_model.fit(x=triplet_inputs, y=fake_y, shuffle=True,\n",
    "                      batch_size=32, epochs=1, callbacks=[deep_history], validation_data=[validation_inputs, validation_y_fake])"
   ]
  },
  {
   "cell_type": "code",
   "execution_count": null,
   "metadata": {},
   "outputs": [],
   "source": []
  },
  {
   "cell_type": "code",
   "execution_count": 272,
   "metadata": {},
   "outputs": [
    {
     "data": {
      "text/plain": [
       "[<matplotlib.lines.Line2D at 0x2528d3ab250>]"
      ]
     },
     "execution_count": 272,
     "metadata": {},
     "output_type": "execute_result"
    },
    {
     "data": {
      "image/png": "[encoded data removed]",
      "text/plain": [
       "<Figure size 640x480 with 1 Axes>"
      ]
     },
     "metadata": {},
     "output_type": "display_data"
    }
   ],
   "source": []
  }
 ],
 "metadata": {
  "kernelspec": {
   "display_name": "Python 3",
   "language": "python",
   "name": "python3"
  },
  "language_info": {
   "codemirror_mode": {
    "name": "ipython",
    "version": 3
   },
   "file_extension": ".py",
   "mimetype": "text/x-python",
   "name": "python",
   "nbconvert_exporter": "python",
   "pygments_lexer": "ipython3",
   "version": "3.8.0"
  },
  "orig_nbformat": 4
 },
 "nbformat": 4,
 "nbformat_minor": 2
}
