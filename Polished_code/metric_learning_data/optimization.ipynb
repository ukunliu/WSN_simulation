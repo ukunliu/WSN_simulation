{
 "cells": [
  {
   "cell_type": "code",
   "execution_count": 32,
   "metadata": {},
   "outputs": [],
   "source": [
    "import numpy as np\n",
    "import matplotlib.pyplot as plt"
   ]
  },
  {
   "cell_type": "code",
   "execution_count": 33,
   "metadata": {},
   "outputs": [],
   "source": [
    "cirs = np.load('cirs_noised_ld.npy')\n",
    "cirs_obs = np.load('cirs_observation_ld.npy')\n",
    "triplets = np.load('triplets_ld.npy')"
   ]
  },
  {
   "cell_type": "code",
   "execution_count": 34,
   "metadata": {},
   "outputs": [],
   "source": [
    "miu, sigma = cirs.mean(), cirs.var()\n",
    "\n",
    "cirs = (cirs - cirs.min()) / (cirs.max() - cirs.min())\n",
    "cirs_obs = (cirs_obs - cirs_obs.min()) / (cirs_obs.max() - cirs_obs.min())"
   ]
  },
  {
   "cell_type": "code",
   "execution_count": 35,
   "metadata": {},
   "outputs": [],
   "source": [
    "import pandas as pd\n",
    "from sklearn.preprocessing import StandardScaler"
   ]
  },
  {
   "cell_type": "code",
   "execution_count": 36,
   "metadata": {},
   "outputs": [],
   "source": [
    "def normalize_complex_arr(a):\n",
    "    a_oo = a - a.real.min() - 1j*a.imag.min() # origin offsetted\n",
    "    return a_oo/np.abs(a_oo).max()"
   ]
  },
  {
   "cell_type": "code",
   "execution_count": 37,
   "metadata": {},
   "outputs": [],
   "source": [
    "cirs_real, cirs_img = np.real(cirs), np.imag(cirs)\n",
    "cirs_obs_real, cirs_obs_img = np.real(cirs_obs), np.imag(cirs_obs)"
   ]
  },
  {
   "cell_type": "code",
   "execution_count": 38,
   "metadata": {},
   "outputs": [
    {
     "data": {
      "text/plain": [
       "((0.5046122225590033+0.1656954258411093j),\n",
       " (0.28381297932267213-0.11917461734366161j))"
      ]
     },
     "execution_count": 38,
     "metadata": {},
     "output_type": "execute_result"
    }
   ],
   "source": [
    "np.mean(cirs_obs), np.mean(cirs)"
   ]
  },
  {
   "cell_type": "code",
   "execution_count": 39,
   "metadata": {},
   "outputs": [],
   "source": [
    "P = np.array([cirs_obs[trp[0]] for trp in triplets])\n",
    "Pi = np.array([cirs[trp[1]] for trp in triplets])\n",
    "Pj = np.array([cirs[trp[2]] for trp in triplets])"
   ]
  },
  {
   "cell_type": "code",
   "execution_count": 40,
   "metadata": {},
   "outputs": [],
   "source": [
    "def loss_hinge(p, pi, pj, W, margin=1):\n",
    "    return max(0, margin - p.T @ W @ pi + p.T @ W @ pj)\n",
    "\n",
    "def loss_global(triplets, W, cirs, cirs_obs):\n",
    "    return np.sum([loss_hinge(cirs_obs[i0], cirs[i1], cirs[i2], W) for i0, i1, i2 in triplets])\n",
    "\n",
    "def gradient(W, P, Pi, Pj):\n",
    "    grad = np.zeros_like(W)\n",
    "\n",
    "def gradient_descent():\n",
    "    ..."
   ]
  },
  {
   "attachments": {},
   "cell_type": "markdown",
   "metadata": {},
   "source": [
    "## Triplet loss with Keras"
   ]
  },
  {
   "cell_type": "code",
   "execution_count": 41,
   "metadata": {},
   "outputs": [],
   "source": [
    "import tensorflow as tf\n",
    "from tensorflow.keras import layers\n",
    "from tensorflow.keras.models import Model\n",
    "from tensorflow.keras.layers import Embedding, Flatten, Input, Dense, LayerNormalization, Dropout, Concatenate\n",
    "from tensorflow.keras.layers import Lambda, Dot\n",
    "from tensorflow.keras.regularizers import l2\n",
    "from keras.callbacks import History \n",
    "from keras import backend as K"
   ]
  },
  {
   "cell_type": "code",
   "execution_count": 42,
   "metadata": {},
   "outputs": [],
   "source": [
    "import tensorflow as tf\n",
    "from sklearn.metrics import roc_auc_score\n",
    "from tensorflow.keras import layers\n",
    "\n",
    "\n",
    "def identity_loss(y_true, y_pred):\n",
    "    \"\"\"Ignore y_true and return the mean of y_pred\n",
    "    \n",
    "    This is a hack to work-around the design of the Keras API that is\n",
    "    not really suited to train networks with a triplet loss by default.\n",
    "    \"\"\"\n",
    "    return tf.reduce_mean(y_pred)\n",
    "\n",
    "\n",
    "class MarginLoss(layers.Layer):\n",
    "\n",
    "    def __init__(self, margin=1):\n",
    "        super().__init__()\n",
    "        self.margin = margin\n",
    "        \n",
    "    def call(self, inputs):\n",
    "        pos_pair_similarity = inputs[0]\n",
    "        neg_pair_similarity = inputs[1]\n",
    "        \n",
    "        diff = neg_pair_similarity - pos_pair_similarity\n",
    "        return tf.maximum(diff + self.margin, 0.)\n",
    "    \n",
    "\n",
    "def average_roc_auc(model, triplets_train, triplets_test):\n",
    "    \"\"\"Compute the ROC AUC for each user and average over users\"\"\"\n",
    "    max_user_id = max(data_train['user_id'].max(),\n",
    "                      data_test['user_id'].max())\n",
    "    max_item_id = max(data_train['item_id'].max(),\n",
    "                      data_test['item_id'].max())\n",
    "    user_auc_scores = []\n",
    "    for user_id in range(1, max_user_id + 1):\n",
    "        pos_item_train = triplets_train[1]\n",
    "        pos_item_test = triplets_test[1]\n",
    "        \n",
    "        # Consider all the items already seen in the training set\n",
    "        all_item_ids = np.arange(1, max_item_id + 1)\n",
    "        items_to_rank = np.setdiff1d(\n",
    "            all_item_ids, pos_item_train['item_id'].values)\n",
    "        \n",
    "        # Ground truth: return 1 for each item positively present in\n",
    "        # the test set and 0 otherwise.\n",
    "        expected = np.in1d(\n",
    "            items_to_rank, pos_item_test['item_id'].values)\n",
    "        \n",
    "        if np.sum(expected) >= 1:\n",
    "            # At least one positive test value to rank\n",
    "            repeated_user_id = np.empty_like(items_to_rank)\n",
    "            repeated_user_id.fill(user_id)\n",
    "\n",
    "            predicted = model.predict(\n",
    "                [repeated_user_id, items_to_rank], batch_size=4096)\n",
    "        \n",
    "            user_auc_scores.append(roc_auc_score(expected, predicted))\n",
    "\n",
    "    return sum(user_auc_scores) / len(user_auc_scores)"
   ]
  },
  {
   "cell_type": "code",
   "execution_count": 43,
   "metadata": {},
   "outputs": [],
   "source": [
    "def sample_triplets(triplets, cir_obs, cir_base, random_seed=0):\n",
    "    obs, pos_comp, neg_comp = [], [], []\n",
    "    rng = np.random.RandomState(random_seed)\n",
    "    for i, j, _ in triplets:\n",
    "        obs.append(cir_obs[i])\n",
    "        pos_comp.append(cir_base[j])\n",
    "\n",
    "    neg_comp = cir_base[rng.randint(low=0, high=len(cirs), size=len(triplets))]\n",
    "\n",
    "    return [np.array(obs), np.array(pos_comp), np.array(neg_comp)]"
   ]
  },
  {
   "cell_type": "code",
   "execution_count": 76,
   "metadata": {},
   "outputs": [],
   "source": [
    "class ComplexDense(layers.Layer):\n",
    "    def __init__(self, n_input, activation='relu'):\n",
    "        super().__init__()\n",
    "        self.complex_real = Dense(n_input, activation=activation)\n",
    "        self.complex_imag = Dense(n_input, activation=activation)\n",
    "\n",
    "    def call(self, input):\n",
    "        input_real = tf.math.real(input)\n",
    "        input_img = tf.math.imag(input)\n",
    "        return self.complex_real(input_real) - self.complex_imag(input_img) + 1j * (self.complex_real(input_img) + self.complex_imag(input_real))\n",
    "\n",
    "class TripletModel(Model):\n",
    "    def __init__(self, n_observation, n_comparison, margin=1., latent_dim=64, l2_reg=None):\n",
    "        super().__init__(name=\"TripletModel\")\n",
    "        \n",
    "        self.margin = margin\n",
    "        \n",
    "        l2_reg = None if l2_reg == 0 else l2(l2_reg)\n",
    "        # self.obs_layer = Embedding(n_observation, n_observation,\n",
    "        #                             name='obs_embedding',\n",
    "        #                             embeddings_regularizer=l2_reg)\n",
    "        # self.comp_layer = Embedding(n_comparison, n_comparison,\n",
    "        #                     name='comp_embedding',\n",
    "        #                     embeddings_regularizer=l2_reg)\n",
    "        self.normalization = LayerNormalization()\n",
    "\n",
    "        self.dot = Dot(axes=1, normalize=True)\n",
    "\n",
    "        self.margin_loss = MarginLoss(margin)\n",
    "\n",
    "        self.dense_1 = ComplexDense(n_observation, activation='relu')\n",
    "        self.dense_2 = ComplexDense(n_comparison, activation='relu')\n",
    "        \n",
    "    def call(self, inputs, training=False):\n",
    "        obs_input, pos_input, neg_input = inputs[0], inputs[1], inputs[2]\n",
    "\n",
    "        # self.normalization.adapt(obs_input)\n",
    "        obs_nmlz = self.normalization(obs_input)\n",
    "        pos_nmlz = self.normalization(pos_input)\n",
    "        neg_nmlz = self.normalization(neg_input)\n",
    "        # a = obs.nmlz.real\n",
    "\n",
    "        # latent feature\n",
    "        obs = self.dense_1(obs_nmlz)\n",
    "        pos = self.dense_2(pos_nmlz) \n",
    "        neg = self.dense_2(neg_nmlz) \n",
    "\n",
    "        # obs /= tf.norm(obs)\n",
    "        # pos /= tf.norm(pos)\n",
    "        # neg /= tf.norm(neg)\n",
    "        \n",
    "        # Similarity computation between embeddings\n",
    "        pos_similarity = self.dot([obs, pos])\n",
    "        neg_similarity = self.dot([obs, neg])\n",
    "                \n",
    "        return self.margin_loss([pos_similarity, neg_similarity])"
   ]
  },
  {
   "cell_type": "code",
   "execution_count": 77,
   "metadata": {},
   "outputs": [
    {
     "name": "stdout",
     "output_type": "stream",
     "text": [
      "[name: \"/device:CPU:0\"\n",
      "device_type: \"CPU\"\n",
      "memory_limit: 268435456\n",
      "locality {\n",
      "}\n",
      "incarnation: 4533936518279290253\n",
      "xla_global_id: -1\n",
      "]\n"
     ]
    }
   ],
   "source": [
    "from tensorflow.python.client import device_lib\n",
    "print(device_lib.list_local_devices())"
   ]
  },
  {
   "cell_type": "code",
   "execution_count": 78,
   "metadata": {},
   "outputs": [
    {
     "ename": "TypeError",
     "evalue": "in user code:\n\n    File \"c:\\Users\\11740\\AppData\\Local\\Programs\\Python\\Python38\\lib\\site-packages\\keras\\engine\\training.py\", line 1160, in train_function  *\n        return step_function(self, iterator)\n    File \"c:\\Users\\11740\\AppData\\Local\\Programs\\Python\\Python38\\lib\\site-packages\\keras\\engine\\training.py\", line 1146, in step_function  **\n        outputs = model.distribute_strategy.run(run_step, args=(data,))\n    File \"c:\\Users\\11740\\AppData\\Local\\Programs\\Python\\Python38\\lib\\site-packages\\keras\\engine\\training.py\", line 1135, in run_step  **\n        outputs = model.train_step(data)\n    File \"c:\\Users\\11740\\AppData\\Local\\Programs\\Python\\Python38\\lib\\site-packages\\keras\\engine\\training.py\", line 993, in train_step\n        y_pred = self(x, training=True)\n    File \"c:\\Users\\11740\\AppData\\Local\\Programs\\Python\\Python38\\lib\\site-packages\\keras\\utils\\traceback_utils.py\", line 70, in error_handler\n        raise e.with_traceback(filtered_tb) from None\n    File \"C:\\Users\\11740\\AppData\\Local\\Temp\\__autograph_generated_file1mlgnbzm.py\", line 14, in tf__call\n        obs = ag__.converted_call(ag__.ld(self).dense_1, (ag__.ld(obs_nmlz),), None, fscope)\n    File \"C:\\Users\\11740\\AppData\\Local\\Temp\\__autograph_generated_file6vr3bvc8.py\", line 14, in tf__call\n        retval_ = ((ag__.converted_call(ag__.ld(self).complex_real, (ag__.ld(input_real),), None, fscope) - ag__.converted_call(ag__.ld(self).complex_imag, (ag__.ld(input_img),), None, fscope)) + (1j * (ag__.converted_call(ag__.ld(self).complex_real, (ag__.ld(input_img),), None, fscope) + ag__.converted_call(ag__.ld(self).complex_imag, (ag__.ld(input_real),), None, fscope))))\n\n    TypeError: Exception encountered when calling layer \"TripletModel\" \"                 f\"(type TripletModel).\n    \n    in user code:\n    \n        File \"C:\\Users\\11740\\AppData\\Local\\Temp\\ipykernel_5024\\3192471753.py\", line 44, in call  *\n            obs = self.dense_1(obs_nmlz)\n        File \"c:\\Users\\11740\\AppData\\Local\\Programs\\Python\\Python38\\lib\\site-packages\\keras\\utils\\traceback_utils.py\", line 70, in error_handler  **\n            raise e.with_traceback(filtered_tb) from None\n        File \"C:\\Users\\11740\\AppData\\Local\\Temp\\__autograph_generated_file6vr3bvc8.py\", line 14, in tf__call\n            retval_ = ((ag__.converted_call(ag__.ld(self).complex_real, (ag__.ld(input_real),), None, fscope) - ag__.converted_call(ag__.ld(self).complex_imag, (ag__.ld(input_img),), None, fscope)) + (1j * (ag__.converted_call(ag__.ld(self).complex_real, (ag__.ld(input_img),), None, fscope) + ag__.converted_call(ag__.ld(self).complex_imag, (ag__.ld(input_real),), None, fscope))))\n    \n        TypeError: Exception encountered when calling layer \"complex_dense_4\" \"                 f\"(type ComplexDense).\n        \n        in user code:\n        \n            File \"C:\\Users\\11740\\AppData\\Local\\Temp\\ipykernel_5024\\3017977911.py\", line 10, in call  *\n                return (self.complex_real(input_real) - self.complex_imag(input_img))                      + 1j * (self.complex_real(input_img) + self.complex_imag(input_real))\n        \n            TypeError: Expected float32, but got 1j of type 'complex'.\n        \n        \n        Call arguments received by layer \"complex_dense_4\" \"                 f\"(type ComplexDense):\n          • input=tf.Tensor(shape=(None, 675), dtype=float32)\n    \n    \n    Call arguments received by layer \"TripletModel\" \"                 f\"(type TripletModel):\n      • inputs=('tf.Tensor(shape=(None, 675), dtype=complex128)', 'tf.Tensor(shape=(None, 675), dtype=complex128)', 'tf.Tensor(shape=(None, 675), dtype=complex128)')\n      • training=True\n",
     "output_type": "error",
     "traceback": [
      "\u001b[1;31m---------------------------------------------------------------------------\u001b[0m",
      "\u001b[1;31mTypeError\u001b[0m                                 Traceback (most recent call last)",
      "Cell \u001b[1;32mIn[78], line 21\u001b[0m\n\u001b[0;32m     17\u001b[0m triplet_inputs \u001b[39m=\u001b[39m sample_triplets(triplets, cirs_obs, cirs, random_seed\u001b[39m=\u001b[39mi)\n\u001b[0;32m     19\u001b[0m \u001b[39m# Fit the model incrementally by doing a single pass over the\u001b[39;00m\n\u001b[0;32m     20\u001b[0m \u001b[39m# sampled triplets.\u001b[39;00m\n\u001b[1;32m---> 21\u001b[0m triplet_model\u001b[39m.\u001b[39;49mfit(x\u001b[39m=\u001b[39;49mtriplet_inputs, y\u001b[39m=\u001b[39;49mfake_y, shuffle\u001b[39m=\u001b[39;49m\u001b[39mTrue\u001b[39;49;00m,\n\u001b[0;32m     22\u001b[0m                   batch_size\u001b[39m=\u001b[39;49m\u001b[39m32\u001b[39;49m, epochs\u001b[39m=\u001b[39;49m\u001b[39m1\u001b[39;49m, callbacks\u001b[39m=\u001b[39;49m[history])\n",
      "File \u001b[1;32mc:\\Users\\11740\\AppData\\Local\\Programs\\Python\\Python38\\lib\\site-packages\\keras\\utils\\traceback_utils.py:70\u001b[0m, in \u001b[0;36mfilter_traceback.<locals>.error_handler\u001b[1;34m(*args, **kwargs)\u001b[0m\n\u001b[0;32m     67\u001b[0m     filtered_tb \u001b[39m=\u001b[39m _process_traceback_frames(e\u001b[39m.\u001b[39m__traceback__)\n\u001b[0;32m     68\u001b[0m     \u001b[39m# To get the full stack trace, call:\u001b[39;00m\n\u001b[0;32m     69\u001b[0m     \u001b[39m# `tf.debugging.disable_traceback_filtering()`\u001b[39;00m\n\u001b[1;32m---> 70\u001b[0m     \u001b[39mraise\u001b[39;00m e\u001b[39m.\u001b[39mwith_traceback(filtered_tb) \u001b[39mfrom\u001b[39;00m \u001b[39mNone\u001b[39m\n\u001b[0;32m     71\u001b[0m \u001b[39mfinally\u001b[39;00m:\n\u001b[0;32m     72\u001b[0m     \u001b[39mdel\u001b[39;00m filtered_tb\n",
      "File \u001b[1;32m~\\AppData\\Local\\Temp\\__autograph_generated_filer4al0r47.py:15\u001b[0m, in \u001b[0;36mouter_factory.<locals>.inner_factory.<locals>.tf__train_function\u001b[1;34m(iterator)\u001b[0m\n\u001b[0;32m     13\u001b[0m \u001b[39mtry\u001b[39;00m:\n\u001b[0;32m     14\u001b[0m     do_return \u001b[39m=\u001b[39m \u001b[39mTrue\u001b[39;00m\n\u001b[1;32m---> 15\u001b[0m     retval_ \u001b[39m=\u001b[39m ag__\u001b[39m.\u001b[39mconverted_call(ag__\u001b[39m.\u001b[39mld(step_function), (ag__\u001b[39m.\u001b[39mld(\u001b[39mself\u001b[39m), ag__\u001b[39m.\u001b[39mld(iterator)), \u001b[39mNone\u001b[39;00m, fscope)\n\u001b[0;32m     16\u001b[0m \u001b[39mexcept\u001b[39;00m:\n\u001b[0;32m     17\u001b[0m     do_return \u001b[39m=\u001b[39m \u001b[39mFalse\u001b[39;00m\n",
      "File \u001b[1;32m~\\AppData\\Local\\Temp\\__autograph_generated_file1mlgnbzm.py:14\u001b[0m, in \u001b[0;36mouter_factory.<locals>.inner_factory.<locals>.tf__call\u001b[1;34m(self, inputs, training)\u001b[0m\n\u001b[0;32m     12\u001b[0m pos_nmlz \u001b[39m=\u001b[39m ag__\u001b[39m.\u001b[39mconverted_call(ag__\u001b[39m.\u001b[39mld(\u001b[39mself\u001b[39m)\u001b[39m.\u001b[39mnormalization, (ag__\u001b[39m.\u001b[39mld(pos_input),), \u001b[39mNone\u001b[39;00m, fscope)\n\u001b[0;32m     13\u001b[0m neg_nmlz \u001b[39m=\u001b[39m ag__\u001b[39m.\u001b[39mconverted_call(ag__\u001b[39m.\u001b[39mld(\u001b[39mself\u001b[39m)\u001b[39m.\u001b[39mnormalization, (ag__\u001b[39m.\u001b[39mld(neg_input),), \u001b[39mNone\u001b[39;00m, fscope)\n\u001b[1;32m---> 14\u001b[0m obs \u001b[39m=\u001b[39m ag__\u001b[39m.\u001b[39mconverted_call(ag__\u001b[39m.\u001b[39mld(\u001b[39mself\u001b[39m)\u001b[39m.\u001b[39mdense_1, (ag__\u001b[39m.\u001b[39mld(obs_nmlz),), \u001b[39mNone\u001b[39;00m, fscope)\n\u001b[0;32m     15\u001b[0m pos \u001b[39m=\u001b[39m ag__\u001b[39m.\u001b[39mconverted_call(ag__\u001b[39m.\u001b[39mld(\u001b[39mself\u001b[39m)\u001b[39m.\u001b[39mdense_2, (ag__\u001b[39m.\u001b[39mld(pos_nmlz),), \u001b[39mNone\u001b[39;00m, fscope)\n\u001b[0;32m     16\u001b[0m neg \u001b[39m=\u001b[39m ag__\u001b[39m.\u001b[39mconverted_call(ag__\u001b[39m.\u001b[39mld(\u001b[39mself\u001b[39m)\u001b[39m.\u001b[39mdense_2, (ag__\u001b[39m.\u001b[39mld(neg_nmlz),), \u001b[39mNone\u001b[39;00m, fscope)\n",
      "File \u001b[1;32m~\\AppData\\Local\\Temp\\__autograph_generated_file6vr3bvc8.py:14\u001b[0m, in \u001b[0;36mouter_factory.<locals>.inner_factory.<locals>.tf__call\u001b[1;34m(self, input)\u001b[0m\n\u001b[0;32m     12\u001b[0m \u001b[39mtry\u001b[39;00m:\n\u001b[0;32m     13\u001b[0m     do_return \u001b[39m=\u001b[39m \u001b[39mTrue\u001b[39;00m\n\u001b[1;32m---> 14\u001b[0m     retval_ \u001b[39m=\u001b[39m ((ag__\u001b[39m.\u001b[39mconverted_call(ag__\u001b[39m.\u001b[39mld(\u001b[39mself\u001b[39m)\u001b[39m.\u001b[39mcomplex_real, (ag__\u001b[39m.\u001b[39mld(input_real),), \u001b[39mNone\u001b[39;00m, fscope) \u001b[39m-\u001b[39m ag__\u001b[39m.\u001b[39mconverted_call(ag__\u001b[39m.\u001b[39mld(\u001b[39mself\u001b[39m)\u001b[39m.\u001b[39mcomplex_imag, (ag__\u001b[39m.\u001b[39mld(input_img),), \u001b[39mNone\u001b[39;00m, fscope)) \u001b[39m+\u001b[39m (\u001b[39m1\u001b[39mj \u001b[39m*\u001b[39m (ag__\u001b[39m.\u001b[39mconverted_call(ag__\u001b[39m.\u001b[39mld(\u001b[39mself\u001b[39m)\u001b[39m.\u001b[39mcomplex_real, (ag__\u001b[39m.\u001b[39mld(input_img),), \u001b[39mNone\u001b[39;00m, fscope) \u001b[39m+\u001b[39m ag__\u001b[39m.\u001b[39mconverted_call(ag__\u001b[39m.\u001b[39mld(\u001b[39mself\u001b[39m)\u001b[39m.\u001b[39mcomplex_imag, (ag__\u001b[39m.\u001b[39mld(input_real),), \u001b[39mNone\u001b[39;00m, fscope))))\n\u001b[0;32m     15\u001b[0m \u001b[39mexcept\u001b[39;00m:\n\u001b[0;32m     16\u001b[0m     do_return \u001b[39m=\u001b[39m \u001b[39mFalse\u001b[39;00m\n",
      "\u001b[1;31mTypeError\u001b[0m: in user code:\n\n    File \"c:\\Users\\11740\\AppData\\Local\\Programs\\Python\\Python38\\lib\\site-packages\\keras\\engine\\training.py\", line 1160, in train_function  *\n        return step_function(self, iterator)\n    File \"c:\\Users\\11740\\AppData\\Local\\Programs\\Python\\Python38\\lib\\site-packages\\keras\\engine\\training.py\", line 1146, in step_function  **\n        outputs = model.distribute_strategy.run(run_step, args=(data,))\n    File \"c:\\Users\\11740\\AppData\\Local\\Programs\\Python\\Python38\\lib\\site-packages\\keras\\engine\\training.py\", line 1135, in run_step  **\n        outputs = model.train_step(data)\n    File \"c:\\Users\\11740\\AppData\\Local\\Programs\\Python\\Python38\\lib\\site-packages\\keras\\engine\\training.py\", line 993, in train_step\n        y_pred = self(x, training=True)\n    File \"c:\\Users\\11740\\AppData\\Local\\Programs\\Python\\Python38\\lib\\site-packages\\keras\\utils\\traceback_utils.py\", line 70, in error_handler\n        raise e.with_traceback(filtered_tb) from None\n    File \"C:\\Users\\11740\\AppData\\Local\\Temp\\__autograph_generated_file1mlgnbzm.py\", line 14, in tf__call\n        obs = ag__.converted_call(ag__.ld(self).dense_1, (ag__.ld(obs_nmlz),), None, fscope)\n    File \"C:\\Users\\11740\\AppData\\Local\\Temp\\__autograph_generated_file6vr3bvc8.py\", line 14, in tf__call\n        retval_ = ((ag__.converted_call(ag__.ld(self).complex_real, (ag__.ld(input_real),), None, fscope) - ag__.converted_call(ag__.ld(self).complex_imag, (ag__.ld(input_img),), None, fscope)) + (1j * (ag__.converted_call(ag__.ld(self).complex_real, (ag__.ld(input_img),), None, fscope) + ag__.converted_call(ag__.ld(self).complex_imag, (ag__.ld(input_real),), None, fscope))))\n\n    TypeError: Exception encountered when calling layer \"TripletModel\" \"                 f\"(type TripletModel).\n    \n    in user code:\n    \n        File \"C:\\Users\\11740\\AppData\\Local\\Temp\\ipykernel_5024\\3192471753.py\", line 44, in call  *\n            obs = self.dense_1(obs_nmlz)\n        File \"c:\\Users\\11740\\AppData\\Local\\Programs\\Python\\Python38\\lib\\site-packages\\keras\\utils\\traceback_utils.py\", line 70, in error_handler  **\n            raise e.with_traceback(filtered_tb) from None\n        File \"C:\\Users\\11740\\AppData\\Local\\Temp\\__autograph_generated_file6vr3bvc8.py\", line 14, in tf__call\n            retval_ = ((ag__.converted_call(ag__.ld(self).complex_real, (ag__.ld(input_real),), None, fscope) - ag__.converted_call(ag__.ld(self).complex_imag, (ag__.ld(input_img),), None, fscope)) + (1j * (ag__.converted_call(ag__.ld(self).complex_real, (ag__.ld(input_img),), None, fscope) + ag__.converted_call(ag__.ld(self).complex_imag, (ag__.ld(input_real),), None, fscope))))\n    \n        TypeError: Exception encountered when calling layer \"complex_dense_4\" \"                 f\"(type ComplexDense).\n        \n        in user code:\n        \n            File \"C:\\Users\\11740\\AppData\\Local\\Temp\\ipykernel_5024\\3017977911.py\", line 10, in call  *\n                return (self.complex_real(input_real) - self.complex_imag(input_img))                      + 1j * (self.complex_real(input_img) + self.complex_imag(input_real))\n        \n            TypeError: Expected float32, but got 1j of type 'complex'.\n        \n        \n        Call arguments received by layer \"complex_dense_4\" \"                 f\"(type ComplexDense):\n          • input=tf.Tensor(shape=(None, 675), dtype=float32)\n    \n    \n    Call arguments received by layer \"TripletModel\" \"                 f\"(type TripletModel):\n      • inputs=('tf.Tensor(shape=(None, 675), dtype=complex128)', 'tf.Tensor(shape=(None, 675), dtype=complex128)', 'tf.Tensor(shape=(None, 675), dtype=complex128)')\n      • training=True\n"
     ]
    }
   ],
   "source": [
    "history = History()\n",
    "\n",
    "fake_y = np.ones(len(cirs))\n",
    "\n",
    "dim_obs = cirs_obs.shape[1]\n",
    "dim_comp = cirs.shape[1]\n",
    "\n",
    "triplet_model = TripletModel(dim_obs, dim_comp, l2_reg=1e-6, margin=0)\n",
    "\n",
    "triplet_model.compile(loss=identity_loss, optimizer=\"SGD\")\n",
    "\n",
    "n_epochs = 100\n",
    "batch_size = 64\n",
    "\n",
    "for i in range(n_epochs):\n",
    "    # Sample new negatives to build different triplets at each epoch\n",
    "    triplet_inputs = sample_triplets(triplets, cirs_obs, cirs, random_seed=i)\n",
    "\n",
    "    # Fit the model incrementally by doing a single pass over the\n",
    "    # sampled triplets.\n",
    "    triplet_model.fit(x=triplet_inputs, y=fake_y, shuffle=True,\n",
    "                      batch_size=32, epochs=1, callbacks=[history])"
   ]
  },
  {
   "cell_type": "code",
   "execution_count": 74,
   "metadata": {},
   "outputs": [
    {
     "data": {
      "text/plain": [
       "[<matplotlib.lines.Line2D at 0x1ec431a9f10>]"
      ]
     },
     "execution_count": 74,
     "metadata": {},
     "output_type": "execute_result"
    },
    {
     "data": {
      "image/png": "[encoded data removed]",
      "text/plain": [
       "<Figure size 640x480 with 1 Axes>"
      ]
     },
     "metadata": {},
     "output_type": "display_data"
    }
   ],
   "source": [
    "plt.plot(history.history['loss'])"
   ]
  },
  {
   "cell_type": "code",
   "execution_count": 20,
   "metadata": {},
   "outputs": [
    {
     "data": {
      "text/plain": [
       "[<matplotlib.lines.Line2D at 0x2648a88ec90>]"
      ]
     },
     "execution_count": 20,
     "metadata": {},
     "output_type": "execute_result"
    },
    {
     "data": {
      "image/png": "[encoded data removed]",
      "text/plain": [
       "<Figure size 640x480 with 1 Axes>"
      ]
     },
     "metadata": {},
     "output_type": "display_data"
    }
   ],
   "source": [
    "plt.plot(history.history['loss'])"
   ]
  },
  {
   "cell_type": "code",
   "execution_count": 29,
   "metadata": {},
   "outputs": [],
   "source": [
    "class MLP(layers.Layer):\n",
    "    def __init__(self, n_hidden=1, hidden_size=64, dropout=0.,\n",
    "                 l2_reg=None):\n",
    "        super().__init__()\n",
    "\n",
    "        # self.layers = [Dropout(dropout)]\n",
    "        self.layers=[]\n",
    "\n",
    "        for _ in range(n_hidden):\n",
    "            self.layers.append(Dense(hidden_size, activation=\"relu\",\n",
    "                                     kernel_regularizer=l2_reg))\n",
    "            # self.layers.append(Dropout(dropout))\n",
    "\n",
    "        self.layers.append(Dense(1, activation=\"relu\",\n",
    "                                 kernel_regularizer=l2_reg))\n",
    "\n",
    "    def call(self, x, training=False):\n",
    "        for layer in self.layers:\n",
    "            if isinstance(layer, Dropout):\n",
    "                x = layer(x, training=training)\n",
    "            else:\n",
    "                x = layer(x)\n",
    "        return x\n",
    "    \n",
    "\n",
    "class DeepTripletModel(Model):\n",
    "    def __init__(self, n_users, n_items, user_dim=32, item_dim=64, margin=1.,\n",
    "                 n_hidden=1, hidden_size=64, dropout=0, l2_reg=None):\n",
    "        super().__init__()\n",
    "\n",
    "        l2_reg = None if l2_reg == 0 else l2(l2_reg)\n",
    "\n",
    "        self.flatten = Flatten()\n",
    "        self.concat = Concatenate()\n",
    "\n",
    "        self.mlp = MLP(n_hidden, hidden_size, dropout, l2_reg)\n",
    "\n",
    "        self.margin_loss = MarginLoss(margin)\n",
    "\n",
    "    def call(self, inputs):\n",
    "        obs = inputs[0]\n",
    "        pos = inputs[1]\n",
    "        neg = inputs[2]\n",
    "\n",
    "        # Similarity computation between embeddings\n",
    "        pos_embeddings_pair = self.concat([obs, pos])\n",
    "        neg_embeddings_pair = self.concat([obs, neg])\n",
    "\n",
    "        pos_embeddings_pair /= tf.norm(pos_embeddings_pair)\n",
    "        neg_embeddings_pair /= tf.norm(neg_embeddings_pair)\n",
    "\n",
    "        pos_similarity = self.mlp(pos_embeddings_pair)\n",
    "        neg_similarity = self.mlp(neg_embeddings_pair)\n",
    "\n",
    "        return self.margin_loss([pos_similarity, neg_similarity])"
   ]
  },
  {
   "cell_type": "code",
   "execution_count": 52,
   "metadata": {},
   "outputs": [],
   "source": [
    "hyper_parameters = dict(\n",
    "    user_dim=32,\n",
    "    item_dim=64,\n",
    "    n_hidden=1,\n",
    "    hidden_size=128,\n",
    "    dropout=0.1,\n",
    "    l2_reg=0.,\n",
    ")\n",
    "deep_triplet_model = DeepTripletModel(dim_obs, dim_comp, margin=0,\n",
    "                                      **hyper_parameters)\n",
    "\n",
    "deep_triplet_model.compile(loss=identity_loss, optimizer='adam')\n",
    "# fake_y = np.ones_like(pos_data_train['user_id'])"
   ]
  },
  {
   "cell_type": "code",
   "execution_count": 54,
   "metadata": {},
   "outputs": [],
   "source": [
    "deep_history = History()"
   ]
  },
  {
   "cell_type": "code",
   "execution_count": 55,
   "metadata": {},
   "outputs": [
    {
     "name": "stdout",
     "output_type": "stream",
     "text": [
      "13/13 [==============================] - 0s 3ms/step - loss: 1.3176e-07\n",
      "13/13 [==============================] - 0s 3ms/step - loss: 1.2815e-07\n",
      "13/13 [==============================] - 0s 3ms/step - loss: 1.1171e-07\n",
      "13/13 [==============================] - 0s 3ms/step - loss: 1.0846e-07\n",
      "13/13 [==============================] - 0s 3ms/step - loss: 1.0077e-07\n",
      "13/13 [==============================] - 0s 2ms/step - loss: 8.3087e-08\n",
      "13/13 [==============================] - 0s 2ms/step - loss: 8.1750e-08\n",
      "13/13 [==============================] - 0s 2ms/step - loss: 7.2109e-08\n",
      "13/13 [==============================] - 0s 2ms/step - loss: 6.5219e-08\n",
      "13/13 [==============================] - 0s 2ms/step - loss: 6.1538e-08\n",
      "13/13 [==============================] - 0s 2ms/step - loss: 5.7775e-08\n",
      "13/13 [==============================] - 0s 2ms/step - loss: 5.8553e-08\n",
      "13/13 [==============================] - 0s 2ms/step - loss: 4.6986e-08\n",
      "13/13 [==============================] - 0s 2ms/step - loss: 4.9100e-08\n",
      "13/13 [==============================] - 0s 2ms/step - loss: 4.5772e-08\n",
      "13/13 [==============================] - 0s 3ms/step - loss: 4.3601e-08\n",
      "13/13 [==============================] - 0s 4ms/step - loss: 4.5701e-08\n",
      "13/13 [==============================] - 0s 4ms/step - loss: 4.0454e-08\n",
      "13/13 [==============================] - 0s 3ms/step - loss: 3.6454e-08\n",
      "13/13 [==============================] - 0s 4ms/step - loss: 3.4447e-08\n",
      "13/13 [==============================] - 0s 3ms/step - loss: 3.2587e-08\n",
      "13/13 [==============================] - 0s 4ms/step - loss: 3.4216e-08\n",
      "13/13 [==============================] - 0s 3ms/step - loss: 3.0540e-08\n",
      "13/13 [==============================] - 0s 2ms/step - loss: 3.6138e-08\n",
      "13/13 [==============================] - 0s 2ms/step - loss: 3.1443e-08\n",
      "13/13 [==============================] - 0s 3ms/step - loss: 2.7449e-08\n",
      "13/13 [==============================] - 0s 3ms/step - loss: 2.7396e-08\n",
      "13/13 [==============================] - 0s 4ms/step - loss: 2.9497e-08\n",
      "13/13 [==============================] - 0s 3ms/step - loss: 2.5235e-08\n",
      "13/13 [==============================] - 0s 2ms/step - loss: 1.6545e-08\n",
      "13/13 [==============================] - 0s 2ms/step - loss: 0.0000e+00\n",
      "13/13 [==============================] - 0s 2ms/step - loss: 0.0000e+00\n",
      "13/13 [==============================] - 0s 2ms/step - loss: 0.0000e+00\n",
      "13/13 [==============================] - 0s 2ms/step - loss: 0.0000e+00\n",
      "13/13 [==============================] - 0s 3ms/step - loss: 0.0000e+00\n",
      "13/13 [==============================] - 0s 3ms/step - loss: 0.0000e+00\n",
      "13/13 [==============================] - 0s 2ms/step - loss: 0.0000e+00\n",
      "13/13 [==============================] - 0s 3ms/step - loss: 0.0000e+00\n",
      "13/13 [==============================] - 0s 2ms/step - loss: 0.0000e+00\n",
      "13/13 [==============================] - 0s 3ms/step - loss: 0.0000e+00\n",
      "13/13 [==============================] - 0s 2ms/step - loss: 0.0000e+00\n",
      "13/13 [==============================] - 0s 3ms/step - loss: 0.0000e+00\n",
      "13/13 [==============================] - 0s 2ms/step - loss: 0.0000e+00\n",
      "13/13 [==============================] - 0s 3ms/step - loss: 0.0000e+00\n",
      "13/13 [==============================] - 0s 2ms/step - loss: 0.0000e+00\n",
      "13/13 [==============================] - 0s 2ms/step - loss: 0.0000e+00\n",
      "13/13 [==============================] - 0s 2ms/step - loss: 0.0000e+00\n",
      "13/13 [==============================] - 0s 3ms/step - loss: 0.0000e+00\n",
      "13/13 [==============================] - 0s 3ms/step - loss: 0.0000e+00\n",
      "13/13 [==============================] - 0s 2ms/step - loss: 0.0000e+00\n",
      "13/13 [==============================] - 0s 2ms/step - loss: 0.0000e+00\n",
      "13/13 [==============================] - 0s 2ms/step - loss: 0.0000e+00\n",
      "13/13 [==============================] - 0s 2ms/step - loss: 0.0000e+00\n",
      "13/13 [==============================] - 0s 2ms/step - loss: 0.0000e+00\n",
      "13/13 [==============================] - 0s 3ms/step - loss: 0.0000e+00\n",
      "13/13 [==============================] - 0s 2ms/step - loss: 0.0000e+00\n",
      "13/13 [==============================] - 0s 2ms/step - loss: 0.0000e+00\n",
      "13/13 [==============================] - 0s 2ms/step - loss: 0.0000e+00\n",
      "13/13 [==============================] - 0s 2ms/step - loss: 0.0000e+00\n",
      "13/13 [==============================] - 0s 2ms/step - loss: 0.0000e+00\n",
      "13/13 [==============================] - 0s 2ms/step - loss: 0.0000e+00\n",
      "13/13 [==============================] - 0s 2ms/step - loss: 0.0000e+00\n",
      "13/13 [==============================] - 0s 2ms/step - loss: 0.0000e+00\n",
      "13/13 [==============================] - 0s 3ms/step - loss: 0.0000e+00\n",
      "13/13 [==============================] - 0s 2ms/step - loss: 0.0000e+00\n",
      "13/13 [==============================] - 0s 2ms/step - loss: 0.0000e+00\n",
      "13/13 [==============================] - 0s 2ms/step - loss: 0.0000e+00\n",
      "13/13 [==============================] - 0s 3ms/step - loss: 0.0000e+00\n",
      "13/13 [==============================] - 0s 2ms/step - loss: 0.0000e+00\n",
      "13/13 [==============================] - 0s 3ms/step - loss: 0.0000e+00\n",
      "13/13 [==============================] - 0s 3ms/step - loss: 0.0000e+00\n",
      "13/13 [==============================] - 0s 3ms/step - loss: 0.0000e+00\n",
      "13/13 [==============================] - 0s 3ms/step - loss: 0.0000e+00\n",
      "13/13 [==============================] - 0s 3ms/step - loss: 0.0000e+00\n",
      "13/13 [==============================] - 0s 3ms/step - loss: 0.0000e+00\n",
      "13/13 [==============================] - 0s 3ms/step - loss: 0.0000e+00\n",
      "13/13 [==============================] - 0s 3ms/step - loss: 0.0000e+00\n",
      "13/13 [==============================] - 0s 3ms/step - loss: 0.0000e+00\n",
      "13/13 [==============================] - 0s 3ms/step - loss: 0.0000e+00\n",
      "13/13 [==============================] - 0s 3ms/step - loss: 0.0000e+00\n",
      "13/13 [==============================] - 0s 3ms/step - loss: 0.0000e+00\n",
      "13/13 [==============================] - 0s 3ms/step - loss: 0.0000e+00\n",
      "13/13 [==============================] - 0s 2ms/step - loss: 0.0000e+00\n",
      "13/13 [==============================] - 0s 3ms/step - loss: 0.0000e+00\n",
      "13/13 [==============================] - 0s 3ms/step - loss: 0.0000e+00\n",
      "13/13 [==============================] - 0s 3ms/step - loss: 0.0000e+00\n",
      "13/13 [==============================] - 0s 3ms/step - loss: 0.0000e+00\n",
      "13/13 [==============================] - 0s 3ms/step - loss: 0.0000e+00\n",
      "13/13 [==============================] - 0s 2ms/step - loss: 0.0000e+00\n",
      "13/13 [==============================] - 0s 3ms/step - loss: 0.0000e+00\n",
      "13/13 [==============================] - 0s 3ms/step - loss: 0.0000e+00\n",
      "13/13 [==============================] - 0s 3ms/step - loss: 0.0000e+00\n",
      "13/13 [==============================] - 0s 3ms/step - loss: 0.0000e+00\n",
      "13/13 [==============================] - 0s 3ms/step - loss: 0.0000e+00\n",
      "13/13 [==============================] - 0s 2ms/step - loss: 0.0000e+00\n",
      "13/13 [==============================] - 0s 2ms/step - loss: 0.0000e+00\n",
      "13/13 [==============================] - 0s 3ms/step - loss: 0.0000e+00\n",
      "13/13 [==============================] - 0s 3ms/step - loss: 0.0000e+00\n",
      "13/13 [==============================] - 0s 3ms/step - loss: 0.0000e+00\n",
      "13/13 [==============================] - 0s 2ms/step - loss: 0.0000e+00\n"
     ]
    }
   ],
   "source": [
    "for i in range(n_epochs):\n",
    "    # Sample new negatives to build different triplets at each epoch\n",
    "    triplet_inputs = sample_triplets(triplets, cirs_obs, cirs, random_seed=i)\n",
    "\n",
    "    # Fit the model incrementally by doing a single pass over the\n",
    "    # sampled triplets.\n",
    "    deep_triplet_model.fit(x=triplet_inputs, y=fake_y, shuffle=True,\n",
    "                      batch_size=32, epochs=1, callbacks=[deep_history])"
   ]
  },
  {
   "cell_type": "code",
   "execution_count": 57,
   "metadata": {},
   "outputs": [
    {
     "data": {
      "text/plain": [
       "[<matplotlib.lines.Line2D at 0x267c479eb10>]"
      ]
     },
     "execution_count": 57,
     "metadata": {},
     "output_type": "execute_result"
    },
    {
     "data": {
      "image/png": "[encoded data removed]",
      "text/plain": [
       "<Figure size 640x480 with 1 Axes>"
      ]
     },
     "metadata": {},
     "output_type": "display_data"
    }
   ],
   "source": [
    "plt.plot(deep_history.history['loss'])"
   ]
  }
 ],
 "metadata": {
  "kernelspec": {
   "display_name": "Python 3",
   "language": "python",
   "name": "python3"
  },
  "language_info": {
   "codemirror_mode": {
    "name": "ipython",
    "version": 3
   },
   "file_extension": ".py",
   "mimetype": "text/x-python",
   "name": "python",
   "nbconvert_exporter": "python",
   "pygments_lexer": "ipython3",
   "version": "3.8.0"
  },
  "orig_nbformat": 4
 },
 "nbformat": 4,
 "nbformat_minor": 2
}
