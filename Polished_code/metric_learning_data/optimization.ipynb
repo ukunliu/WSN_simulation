{
 "cells": [
  {
   "cell_type": "code",
   "execution_count": 4,
   "metadata": {},
   "outputs": [],
   "source": [
    "import numpy as np\n",
    "import matplotlib.pyplot as plt"
   ]
  },
  {
   "cell_type": "code",
   "execution_count": 65,
   "metadata": {},
   "outputs": [],
   "source": [
    "cirs = np.load('cirs_noised_ld.npy')\n",
    "cirs_obs = np.load('cirs_observation_ld.npy')\n",
    "triplets = np.load('triplets_ld.npy')"
   ]
  },
  {
   "cell_type": "code",
   "execution_count": 77,
   "metadata": {},
   "outputs": [],
   "source": [
    "miu, sigma = cirs.mean(), cirs.var()\n",
    "\n",
    "cirs_1 = (cirs - cirs.min()) / (cirs.max() - cirs.min())\n",
    "cirs_obs = (cirs_obs - cirs_obs.min()) / (cirs_obs.max() - cirs_obs.min())"
   ]
  },
  {
   "cell_type": "code",
   "execution_count": 24,
   "metadata": {},
   "outputs": [],
   "source": [
    "import pandas as pd\n",
    "from sklearn.preprocessing import StandardScaler"
   ]
  },
  {
   "cell_type": "code",
   "execution_count": 73,
   "metadata": {},
   "outputs": [],
   "source": [
    "cirs_nmlz = normalize_complex_arr(cirs)"
   ]
  },
  {
   "cell_type": "code",
   "execution_count": 71,
   "metadata": {},
   "outputs": [],
   "source": [
    "def normalize_complex_arr(a):\n",
    "    a_oo = a - a.real.min() - 1j*a.imag.min() # origin offsetted\n",
    "    return a_oo/np.abs(a_oo).max()"
   ]
  },
  {
   "cell_type": "code",
   "execution_count": 78,
   "metadata": {},
   "outputs": [
    {
     "data": {
      "text/plain": [
       "((0.2556390004552904+0.3184656954349718j),\n",
       " (0.5046122225590033+0.1656954258411093j),\n",
       " 0.00024638296808287657,\n",
       " (0.28381297932267213-0.11917461734366161j))"
      ]
     },
     "execution_count": 78,
     "metadata": {},
     "output_type": "execute_result"
    }
   ],
   "source": [
    "np.mean(cirs_nmlz), np.mean(cirs_obs), np.var(cirs_nmlz), np.mean(cirs_1)"
   ]
  },
  {
   "cell_type": "code",
   "execution_count": 7,
   "metadata": {},
   "outputs": [],
   "source": [
    "P = np.array([cirs_obs[trp[0]] for trp in triplets])\n",
    "Pi = np.array([cirs[trp[1]] for trp in triplets])\n",
    "Pj = np.array([cirs[trp[2]] for trp in triplets])"
   ]
  },
  {
   "cell_type": "code",
   "execution_count": 8,
   "metadata": {},
   "outputs": [],
   "source": [
    "def loss_hinge(p, pi, pj, W, margin=1):\n",
    "    return max(0, margin - p.T @ W @ pi + p.T @ W @ pj)\n",
    "\n",
    "def loss_global(triplets, W, cirs, cirs_obs):\n",
    "    return np.sum([loss_hinge(cirs_obs[i0], cirs[i1], cirs[i2], W) for i0, i1, i2 in triplets])\n",
    "\n",
    "def gradient(W, P, Pi, Pj):\n",
    "    grad = np.zeros_like(W)\n",
    "\n",
    "def gradient_descent():\n",
    "    ..."
   ]
  },
  {
   "attachments": {},
   "cell_type": "markdown",
   "metadata": {},
   "source": [
    "## Triplet loss with Keras"
   ]
  },
  {
   "cell_type": "code",
   "execution_count": 99,
   "metadata": {},
   "outputs": [],
   "source": [
    "import tensorflow as tf\n",
    "from tensorflow.keras import layers\n",
    "from tensorflow.keras.models import Model\n",
    "from tensorflow.keras.layers import Embedding, Flatten, Input, Dense, LayerNormalization, Dropout, Concatenate\n",
    "from tensorflow.keras.layers import Lambda, Dot\n",
    "from tensorflow.keras.regularizers import l2\n",
    "from keras.callbacks import History \n",
    "from keras import backend as K"
   ]
  },
  {
   "cell_type": "code",
   "execution_count": 86,
   "metadata": {},
   "outputs": [],
   "source": [
    "import tensorflow as tf\n",
    "from sklearn.metrics import roc_auc_score\n",
    "from tensorflow.keras import layers\n",
    "\n",
    "\n",
    "def identity_loss(y_true, y_pred):\n",
    "    \"\"\"Ignore y_true and return the mean of y_pred\n",
    "    \n",
    "    This is a hack to work-around the design of the Keras API that is\n",
    "    not really suited to train networks with a triplet loss by default.\n",
    "    \"\"\"\n",
    "    return tf.reduce_mean(y_pred)\n",
    "\n",
    "\n",
    "class MarginLoss(layers.Layer):\n",
    "\n",
    "    def __init__(self, margin=1):\n",
    "        super().__init__()\n",
    "        self.margin = margin\n",
    "        \n",
    "    def call(self, inputs):\n",
    "        pos_pair_similarity = inputs[0]\n",
    "        neg_pair_similarity = inputs[1]\n",
    "        \n",
    "        diff = neg_pair_similarity - pos_pair_similarity\n",
    "        return tf.maximum(diff + self.margin, 0.)\n",
    "    \n",
    "\n",
    "def average_roc_auc(model, data_train, data_test):\n",
    "    \"\"\"Compute the ROC AUC for each user and average over users\"\"\"\n",
    "    max_user_id = max(data_train['user_id'].max(),\n",
    "                      data_test['user_id'].max())\n",
    "    max_item_id = max(data_train['item_id'].max(),\n",
    "                      data_test['item_id'].max())\n",
    "    user_auc_scores = []\n",
    "    for user_id in range(1, max_user_id + 1):\n",
    "        pos_item_train = data_train[data_train['user_id'] == user_id]\n",
    "        pos_item_test = data_test[data_test['user_id'] == user_id]\n",
    "        \n",
    "        # Consider all the items already seen in the training set\n",
    "        all_item_ids = np.arange(1, max_item_id + 1)\n",
    "        items_to_rank = np.setdiff1d(\n",
    "            all_item_ids, pos_item_train['item_id'].values)\n",
    "        \n",
    "        # Ground truth: return 1 for each item positively present in\n",
    "        # the test set and 0 otherwise.\n",
    "        expected = np.in1d(\n",
    "            items_to_rank, pos_item_test['item_id'].values)\n",
    "        \n",
    "        if np.sum(expected) >= 1:\n",
    "            # At least one positive test value to rank\n",
    "            repeated_user_id = np.empty_like(items_to_rank)\n",
    "            repeated_user_id.fill(user_id)\n",
    "\n",
    "            predicted = model.predict(\n",
    "                [repeated_user_id, items_to_rank], batch_size=4096)\n",
    "        \n",
    "            user_auc_scores.append(roc_auc_score(expected, predicted))\n",
    "\n",
    "    return sum(user_auc_scores) / len(user_auc_scores)"
   ]
  },
  {
   "cell_type": "code",
   "execution_count": 87,
   "metadata": {},
   "outputs": [],
   "source": [
    "def sample_triplets(triplets, cir_obs, cir_base, random_seed=0):\n",
    "    obs, pos_comp, neg_comp = [], [], []\n",
    "    rng = np.random.RandomState(random_seed)\n",
    "    for i, j, _ in triplets:\n",
    "        obs.append(cir_obs[i])\n",
    "        pos_comp.append(cir_base[j])\n",
    "\n",
    "    neg_comp = cir_base[rng.randint(low=0, high=len(cirs), size=len(triplets))]\n",
    "\n",
    "    return [np.array(obs), np.array(pos_comp), np.array(neg_comp)]"
   ]
  },
  {
   "cell_type": "code",
   "execution_count": 93,
   "metadata": {},
   "outputs": [],
   "source": [
    "class TripletModel(Model):\n",
    "    def __init__(self, n_observation, n_comparison, margin=1., latent_dim=64, l2_reg=None):\n",
    "        super().__init__(name=\"TripletModel\")\n",
    "        \n",
    "        self.margin = margin\n",
    "        \n",
    "        l2_reg = None if l2_reg == 0 else l2(l2_reg)\n",
    "        # self.obs_layer = Embedding(n_observation, n_observation,\n",
    "        #                             name='obs_embedding',\n",
    "        #                             embeddings_regularizer=l2_reg)\n",
    "        # self.comp_layer = Embedding(n_comparison, n_comparison,\n",
    "        #                     name='comp_embedding',\n",
    "        #                     embeddings_regularizer=l2_reg)\n",
    "        self.normalization = LayerNormalization()\n",
    "\n",
    "        self.dot = Dot(axes=1, normalize=True)\n",
    "\n",
    "        self.margin_loss = MarginLoss(margin)\n",
    "\n",
    "        self.dense_1 = Dense(latent_dim, activation='relu')\n",
    "        self.dense_2 = Dense(latent_dim, activation='relu')\n",
    "        \n",
    "    def call(self, inputs, training=False):\n",
    "        # observation = inputs[0]\n",
    "        # pos_compare = inputs[1]\n",
    "        # neg_compare = inputs[2]\n",
    "        \n",
    "        # obs_input = self.obs_layer(observation)\n",
    "        \n",
    "        # pos_input = self.comp_layer(pos_compare)\n",
    "        \n",
    "        # neg_input = self.comp_layer(neg_compare)\n",
    "        obs_input, pos_input, neg_input = inputs[0], inputs[1], inputs[2]\n",
    "\n",
    "        # self.normalization.adapt(obs_input)\n",
    "        obs_nmlz = self.normalization(obs_input)\n",
    "        pos_nmlz = self.normalization(pos_input)\n",
    "        neg_nmlz = self.normalization(neg_input)\n",
    "\n",
    "        # latent feature\n",
    "        obs = self.dense_1(obs_nmlz)\n",
    "        pos = self.dense_2(pos_nmlz)\n",
    "        neg = self.dense_2(neg_nmlz)\n",
    "        \n",
    "        # Similarity computation between embeddings\n",
    "        pos_similarity = self.dot([obs, pos])\n",
    "        neg_similarity = self.dot([obs, neg])\n",
    "                \n",
    "        return self.margin_loss([pos_similarity, neg_similarity])"
   ]
  },
  {
   "cell_type": "code",
   "execution_count": 94,
   "metadata": {},
   "outputs": [],
   "source": [
    "history = History()"
   ]
  },
  {
   "cell_type": "code",
   "execution_count": 95,
   "metadata": {},
   "outputs": [
    {
     "name": "stdout",
     "output_type": "stream",
     "text": [
      "WARNING:tensorflow:You are casting an input of type complex128 to an incompatible dtype float32.  This will discard the imaginary part and may not be what you intended.\n",
      "WARNING:tensorflow:You are casting an input of type complex128 to an incompatible dtype float32.  This will discard the imaginary part and may not be what you intended.\n",
      "WARNING:tensorflow:You are casting an input of type complex128 to an incompatible dtype float32.  This will discard the imaginary part and may not be what you intended.\n",
      "WARNING:tensorflow:You are casting an input of type complex128 to an incompatible dtype float32.  This will discard the imaginary part and may not be what you intended.\n",
      "WARNING:tensorflow:You are casting an input of type complex128 to an incompatible dtype float32.  This will discard the imaginary part and may not be what you intended.\n",
      "WARNING:tensorflow:You are casting an input of type complex128 to an incompatible dtype float32.  This will discard the imaginary part and may not be what you intended.\n",
      "13/13 [==============================] - 1s 2ms/step - loss: 0.9969\n",
      "13/13 [==============================] - 0s 2ms/step - loss: 0.9984\n",
      "13/13 [==============================] - 0s 3ms/step - loss: 0.9974\n",
      "13/13 [==============================] - 0s 2ms/step - loss: 0.9944\n",
      "13/13 [==============================] - 0s 2ms/step - loss: 0.9933\n",
      "13/13 [==============================] - 0s 2ms/step - loss: 0.9960\n",
      "13/13 [==============================] - 0s 4ms/step - loss: 0.9933\n",
      "13/13 [==============================] - 0s 2ms/step - loss: 0.9902\n",
      "13/13 [==============================] - 0s 2ms/step - loss: 0.9992\n",
      "13/13 [==============================] - 0s 2ms/step - loss: 0.9994\n",
      "13/13 [==============================] - 0s 2ms/step - loss: 0.9992\n",
      "13/13 [==============================] - 0s 1ms/step - loss: 0.9992\n",
      "13/13 [==============================] - 0s 2ms/step - loss: 0.9991\n",
      "13/13 [==============================] - 0s 2ms/step - loss: 0.9990\n",
      "13/13 [==============================] - 0s 1ms/step - loss: 0.9989\n",
      "13/13 [==============================] - 0s 2ms/step - loss: 0.9988\n",
      "13/13 [==============================] - 0s 2ms/step - loss: 0.9980\n",
      "13/13 [==============================] - 0s 2ms/step - loss: 0.9978\n",
      "13/13 [==============================] - 0s 2ms/step - loss: 0.9959\n",
      "13/13 [==============================] - 0s 2ms/step - loss: 0.9952\n",
      "13/13 [==============================] - 0s 2ms/step - loss: 1.0000\n",
      "13/13 [==============================] - 0s 2ms/step - loss: 1.0000\n",
      "13/13 [==============================] - 0s 2ms/step - loss: 0.9999\n",
      "13/13 [==============================] - 0s 2ms/step - loss: 0.9999\n",
      "13/13 [==============================] - 0s 2ms/step - loss: 0.9998\n",
      "13/13 [==============================] - 0s 2ms/step - loss: 0.9997\n",
      "13/13 [==============================] - 0s 2ms/step - loss: 0.9996\n",
      "13/13 [==============================] - 0s 2ms/step - loss: 0.9995\n",
      "13/13 [==============================] - 0s 2ms/step - loss: 0.9994\n",
      "13/13 [==============================] - 0s 2ms/step - loss: 0.9993\n",
      "13/13 [==============================] - 0s 2ms/step - loss: 0.9993\n",
      "13/13 [==============================] - 0s 2ms/step - loss: 0.9992\n",
      "13/13 [==============================] - 0s 2ms/step - loss: 0.9991\n",
      "13/13 [==============================] - 0s 2ms/step - loss: 0.9991\n",
      "13/13 [==============================] - 0s 2ms/step - loss: 0.9992\n",
      "13/13 [==============================] - 0s 2ms/step - loss: 0.9990\n",
      "13/13 [==============================] - 0s 2ms/step - loss: 0.9989\n",
      "13/13 [==============================] - 0s 2ms/step - loss: 0.9988\n",
      "13/13 [==============================] - 0s 2ms/step - loss: 0.9986\n",
      "13/13 [==============================] - 0s 2ms/step - loss: 0.9987\n",
      "13/13 [==============================] - 0s 2ms/step - loss: 0.9982\n",
      "13/13 [==============================] - 0s 2ms/step - loss: 0.9982\n",
      "13/13 [==============================] - 0s 2ms/step - loss: 0.9981\n",
      "13/13 [==============================] - 0s 2ms/step - loss: 0.9980\n",
      "13/13 [==============================] - 0s 2ms/step - loss: 0.9973\n",
      "13/13 [==============================] - 0s 2ms/step - loss: 0.9969\n",
      "13/13 [==============================] - 0s 2ms/step - loss: 0.9962\n",
      "13/13 [==============================] - 0s 2ms/step - loss: 0.9965\n",
      "13/13 [==============================] - 0s 2ms/step - loss: 0.9958\n",
      "13/13 [==============================] - 0s 2ms/step - loss: 0.9942\n",
      "13/13 [==============================] - 0s 2ms/step - loss: 0.9947\n",
      "13/13 [==============================] - 0s 2ms/step - loss: 0.9922\n",
      "13/13 [==============================] - 0s 2ms/step - loss: 0.9917\n",
      "13/13 [==============================] - 0s 2ms/step - loss: 0.9867\n",
      "13/13 [==============================] - 0s 2ms/step - loss: 0.9763\n",
      "13/13 [==============================] - 0s 2ms/step - loss: 1.0000\n",
      "13/13 [==============================] - 0s 2ms/step - loss: 1.0000\n",
      "13/13 [==============================] - 0s 2ms/step - loss: 0.9997\n",
      "13/13 [==============================] - 0s 2ms/step - loss: 0.9993\n",
      "13/13 [==============================] - 0s 2ms/step - loss: 0.9989\n",
      "13/13 [==============================] - 0s 2ms/step - loss: 0.9985\n",
      "13/13 [==============================] - 0s 2ms/step - loss: 0.9984\n",
      "13/13 [==============================] - 0s 2ms/step - loss: 0.9982\n",
      "13/13 [==============================] - 0s 2ms/step - loss: 0.9979\n",
      "13/13 [==============================] - 0s 2ms/step - loss: 0.9974\n",
      "13/13 [==============================] - 0s 2ms/step - loss: 0.9969\n",
      "13/13 [==============================] - 0s 2ms/step - loss: 0.9967\n",
      "13/13 [==============================] - 0s 2ms/step - loss: 0.9957\n",
      "13/13 [==============================] - 0s 2ms/step - loss: 0.9927\n",
      "13/13 [==============================] - 0s 2ms/step - loss: 0.9923\n",
      "13/13 [==============================] - 0s 2ms/step - loss: 1.0009\n",
      "13/13 [==============================] - 0s 2ms/step - loss: 1.0000\n",
      "13/13 [==============================] - 0s 2ms/step - loss: 1.0000\n",
      "13/13 [==============================] - 0s 2ms/step - loss: 1.0000\n",
      "13/13 [==============================] - 0s 2ms/step - loss: 1.0000\n",
      "13/13 [==============================] - 0s 2ms/step - loss: 1.0000\n",
      "13/13 [==============================] - 0s 2ms/step - loss: 1.0000\n",
      "13/13 [==============================] - 0s 2ms/step - loss: 1.0000\n",
      "13/13 [==============================] - 0s 2ms/step - loss: 1.0000\n",
      "13/13 [==============================] - 0s 2ms/step - loss: 1.0000\n",
      "13/13 [==============================] - 0s 2ms/step - loss: 1.0000\n",
      "13/13 [==============================] - 0s 2ms/step - loss: 1.0000\n",
      "13/13 [==============================] - 0s 2ms/step - loss: 1.0000\n",
      "13/13 [==============================] - 0s 2ms/step - loss: 1.0000\n",
      "13/13 [==============================] - 0s 2ms/step - loss: 1.0000\n",
      "13/13 [==============================] - 0s 2ms/step - loss: 1.0000\n",
      "13/13 [==============================] - 0s 2ms/step - loss: 1.0000\n",
      "13/13 [==============================] - 0s 2ms/step - loss: 1.0000\n",
      "13/13 [==============================] - 0s 2ms/step - loss: 1.0000\n",
      "13/13 [==============================] - 0s 2ms/step - loss: 1.0000\n",
      "13/13 [==============================] - 0s 2ms/step - loss: 1.0000\n",
      "13/13 [==============================] - 0s 2ms/step - loss: 1.0000\n",
      "13/13 [==============================] - 0s 2ms/step - loss: 1.0000\n",
      "13/13 [==============================] - 0s 2ms/step - loss: 1.0000\n",
      "13/13 [==============================] - 0s 2ms/step - loss: 1.0000\n",
      "13/13 [==============================] - 0s 2ms/step - loss: 1.0000\n",
      "13/13 [==============================] - 0s 2ms/step - loss: 1.0000\n",
      "13/13 [==============================] - 0s 2ms/step - loss: 1.0000\n",
      "13/13 [==============================] - 0s 2ms/step - loss: 1.0000\n",
      "13/13 [==============================] - 0s 2ms/step - loss: 1.0000\n"
     ]
    }
   ],
   "source": [
    "fake_y = np.ones(len(cirs))\n",
    "\n",
    "dim_obs = cirs_obs.shape[1]\n",
    "dim_comp = cirs.shape[1]\n",
    "\n",
    "triplet_model = TripletModel(dim_obs, dim_comp, l2_reg=1e-6, margin=1)\n",
    "\n",
    "triplet_model.compile(loss=identity_loss, optimizer=\"adam\")\n",
    "\n",
    "n_epochs = 100\n",
    "batch_size = 64\n",
    "\n",
    "for i in range(n_epochs):\n",
    "    # Sample new negatives to build different triplets at each epoch\n",
    "    triplet_inputs = sample_triplets(triplets, cirs_obs, cirs, random_seed=i)\n",
    "\n",
    "    # Fit the model incrementally by doing a single pass over the\n",
    "    # sampled triplets.\n",
    "    triplet_model.fit(x=triplet_inputs, y=fake_y, shuffle=True,\n",
    "                      batch_size=32, epochs=1, callbacks=[history])"
   ]
  },
  {
   "cell_type": "code",
   "execution_count": 96,
   "metadata": {},
   "outputs": [
    {
     "name": "stdout",
     "output_type": "stream",
     "text": [
      "Model: \"TripletModel\"\n",
      "_________________________________________________________________\n",
      " Layer (type)                Output Shape              Param #   \n",
      "=================================================================\n",
      " layer_normalization_1 (Laye  multiple                 1350      \n",
      " rNormalization)                                                 \n",
      "                                                                 \n",
      " dot_15 (Dot)                multiple                  0         \n",
      "                                                                 \n",
      " margin_loss_15 (MarginLoss)  multiple                 0         \n",
      "                                                                 \n",
      " dense_35 (Dense)            multiple                  43264     \n",
      "                                                                 \n",
      " dense_36 (Dense)            multiple                  43264     \n",
      "                                                                 \n",
      "=================================================================\n",
      "Total params: 87,878\n",
      "Trainable params: 87,878\n",
      "Non-trainable params: 0\n",
      "_________________________________________________________________\n"
     ]
    }
   ],
   "source": [
    "triplet_model.summary()"
   ]
  },
  {
   "cell_type": "code",
   "execution_count": 97,
   "metadata": {},
   "outputs": [
    {
     "data": {
      "text/plain": [
       "[<matplotlib.lines.Line2D at 0x2649a64e450>]"
      ]
     },
     "execution_count": 97,
     "metadata": {},
     "output_type": "execute_result"
    },
    {
     "data": {
      "image/png": "[encoded data removed]",
      "text/plain": [
       "<Figure size 640x480 with 1 Axes>"
      ]
     },
     "metadata": {},
     "output_type": "display_data"
    }
   ],
   "source": [
    "plt.plot(history.history['loss'][-100:])"
   ]
  },
  {
   "cell_type": "code",
   "execution_count": 20,
   "metadata": {},
   "outputs": [
    {
     "data": {
      "text/plain": [
       "[<matplotlib.lines.Line2D at 0x2648a88ec90>]"
      ]
     },
     "execution_count": 20,
     "metadata": {},
     "output_type": "execute_result"
    },
    {
     "data": {
      "image/png": "[encoded data removed]",
      "text/plain": [
       "<Figure size 640x480 with 1 Axes>"
      ]
     },
     "metadata": {},
     "output_type": "display_data"
    }
   ],
   "source": [
    "plt.plot(history.history['loss'])"
   ]
  },
  {
   "cell_type": "code",
   "execution_count": 104,
   "metadata": {},
   "outputs": [],
   "source": [
    "class MLP(layers.Layer):\n",
    "    def __init__(self, n_hidden=1, hidden_size=64, dropout=0.,\n",
    "                 l2_reg=None):\n",
    "        super().__init__()\n",
    "\n",
    "        # self.layers = [Dropout(dropout)]\n",
    "        self.layers=[]\n",
    "\n",
    "        for _ in range(n_hidden):\n",
    "            self.layers.append(Dense(hidden_size, activation=\"relu\",\n",
    "                                     kernel_regularizer=l2_reg))\n",
    "            # self.layers.append(Dropout(dropout))\n",
    "\n",
    "        self.layers.append(Dense(1, activation=\"relu\",\n",
    "                                 kernel_regularizer=l2_reg))\n",
    "\n",
    "    def call(self, x, training=False):\n",
    "        for layer in self.layers:\n",
    "            if isinstance(layer, Dropout):\n",
    "                x = layer(x, training=training)\n",
    "            else:\n",
    "                x = layer(x)\n",
    "        return x\n",
    "    \n",
    "\n",
    "class DeepTripletModel(Model):\n",
    "    def __init__(self, n_users, n_items, user_dim=32, item_dim=64, margin=1.,\n",
    "                 n_hidden=1, hidden_size=64, dropout=0, l2_reg=None):\n",
    "        super().__init__()\n",
    "\n",
    "        l2_reg = None if l2_reg == 0 else l2(l2_reg)\n",
    "\n",
    "        self.flatten = Flatten()\n",
    "        self.concat = Concatenate()\n",
    "\n",
    "        self.mlp = MLP(n_hidden, hidden_size, dropout, l2_reg)\n",
    "\n",
    "        self.margin_loss = MarginLoss(margin)\n",
    "\n",
    "    def call(self, inputs):\n",
    "        obs = inputs[0]\n",
    "        pos = inputs[1]\n",
    "        neg = inputs[2]\n",
    "\n",
    "        # Similarity computation between embeddings\n",
    "        pos_embeddings_pair = self.concat([obs, pos])\n",
    "        neg_embeddings_pair = self.concat([obs, neg])\n",
    "\n",
    "        pos_similarity = self.mlp(pos_embeddings_pair)\n",
    "        neg_similarity = self.mlp(neg_embeddings_pair)\n",
    "\n",
    "        return self.margin_loss([pos_similarity, neg_similarity])"
   ]
  },
  {
   "cell_type": "code",
   "execution_count": 103,
   "metadata": {},
   "outputs": [],
   "source": [
    "mlp = MLP()"
   ]
  },
  {
   "cell_type": "code",
   "execution_count": 105,
   "metadata": {},
   "outputs": [],
   "source": [
    "hyper_parameters = dict(\n",
    "    user_dim=32,\n",
    "    item_dim=64,\n",
    "    n_hidden=1,\n",
    "    hidden_size=128,\n",
    "    dropout=0.1,\n",
    "    l2_reg=0.,\n",
    ")\n",
    "deep_triplet_model = DeepTripletModel(dim_obs, dim_comp,\n",
    "                                      **hyper_parameters)\n",
    "\n",
    "deep_triplet_model.compile(loss=identity_loss, optimizer='adam')\n",
    "# fake_y = np.ones_like(pos_data_train['user_id'])"
   ]
  },
  {
   "cell_type": "code",
   "execution_count": 106,
   "metadata": {},
   "outputs": [
    {
     "name": "stdout",
     "output_type": "stream",
     "text": [
      "WARNING:tensorflow:You are casting an input of type complex128 to an incompatible dtype float32.  This will discard the imaginary part and may not be what you intended.\n",
      "WARNING:tensorflow:You are casting an input of type complex128 to an incompatible dtype float32.  This will discard the imaginary part and may not be what you intended.\n",
      "WARNING:tensorflow:You are casting an input of type complex128 to an incompatible dtype float32.  This will discard the imaginary part and may not be what you intended.\n",
      "WARNING:tensorflow:You are casting an input of type complex128 to an incompatible dtype float32.  This will discard the imaginary part and may not be what you intended.\n",
      "13/13 [==============================] - 0s 2ms/step - loss: 1.0000\n"
     ]
    },
    {
     "data": {
      "text/plain": [
       "<keras.callbacks.History at 0x26494b7de90>"
      ]
     },
     "execution_count": 106,
     "metadata": {},
     "output_type": "execute_result"
    }
   ],
   "source": [
    "deep_triplet_model.fit(triplet_inputs, fake_y)"
   ]
  },
  {
   "cell_type": "code",
   "execution_count": 107,
   "metadata": {},
   "outputs": [
    {
     "name": "stdout",
     "output_type": "stream",
     "text": [
      "13/13 [==============================] - 0s 2ms/step - loss: 1.0000\n",
      "13/13 [==============================] - 0s 2ms/step - loss: 1.0000\n",
      "13/13 [==============================] - 0s 2ms/step - loss: 1.0000\n",
      "13/13 [==============================] - 0s 3ms/step - loss: 1.0000\n",
      "13/13 [==============================] - 0s 4ms/step - loss: 1.0000\n",
      "13/13 [==============================] - 0s 2ms/step - loss: 1.0000\n",
      "13/13 [==============================] - 0s 2ms/step - loss: 1.0000\n",
      "13/13 [==============================] - 0s 2ms/step - loss: 1.0000\n",
      "13/13 [==============================] - 0s 2ms/step - loss: 1.0000\n",
      "13/13 [==============================] - 0s 2ms/step - loss: 1.0000\n",
      "13/13 [==============================] - 0s 2ms/step - loss: 1.0000\n",
      "13/13 [==============================] - 0s 3ms/step - loss: 1.0000\n",
      "13/13 [==============================] - 0s 2ms/step - loss: 1.0000\n",
      "13/13 [==============================] - 0s 2ms/step - loss: 1.0000\n",
      "13/13 [==============================] - 0s 3ms/step - loss: 1.0000\n",
      "13/13 [==============================] - 0s 3ms/step - loss: 1.0000\n",
      "13/13 [==============================] - 0s 3ms/step - loss: 1.0000\n",
      "13/13 [==============================] - 0s 2ms/step - loss: 1.0000\n",
      "13/13 [==============================] - 0s 3ms/step - loss: 1.0000\n",
      "13/13 [==============================] - 0s 2ms/step - loss: 1.0000\n",
      "13/13 [==============================] - 0s 2ms/step - loss: 1.0000\n",
      "13/13 [==============================] - 0s 2ms/step - loss: 1.0000\n",
      "13/13 [==============================] - 0s 2ms/step - loss: 1.0000\n",
      "13/13 [==============================] - 0s 2ms/step - loss: 1.0000\n",
      "13/13 [==============================] - 0s 2ms/step - loss: 1.0000\n",
      "13/13 [==============================] - 0s 2ms/step - loss: 1.0000\n",
      "13/13 [==============================] - 0s 2ms/step - loss: 1.0000\n",
      "13/13 [==============================] - 0s 2ms/step - loss: 1.0000\n",
      "13/13 [==============================] - 0s 2ms/step - loss: 1.0000\n",
      "13/13 [==============================] - 0s 2ms/step - loss: 1.0000\n",
      "13/13 [==============================] - 0s 2ms/step - loss: 1.0000\n",
      "13/13 [==============================] - 0s 2ms/step - loss: 1.0000\n",
      "13/13 [==============================] - 0s 3ms/step - loss: 1.0000\n",
      "13/13 [==============================] - 0s 2ms/step - loss: 1.0000\n",
      "13/13 [==============================] - 0s 2ms/step - loss: 1.0000\n",
      "13/13 [==============================] - 0s 2ms/step - loss: 1.0000\n",
      "13/13 [==============================] - 0s 2ms/step - loss: 1.0000\n",
      "13/13 [==============================] - 0s 2ms/step - loss: 1.0000\n",
      "13/13 [==============================] - 0s 2ms/step - loss: 1.0000\n",
      "13/13 [==============================] - 0s 2ms/step - loss: 1.0000\n",
      "13/13 [==============================] - 0s 2ms/step - loss: 1.0000\n",
      "13/13 [==============================] - 0s 2ms/step - loss: 1.0000\n",
      "13/13 [==============================] - 0s 3ms/step - loss: 1.0000\n",
      "13/13 [==============================] - 0s 2ms/step - loss: 1.0000\n",
      "13/13 [==============================] - 0s 2ms/step - loss: 1.0000\n",
      "13/13 [==============================] - 0s 2ms/step - loss: 1.0000\n",
      "13/13 [==============================] - 0s 2ms/step - loss: 1.0000\n",
      "13/13 [==============================] - 0s 2ms/step - loss: 1.0000\n",
      "13/13 [==============================] - 0s 2ms/step - loss: 1.0000\n",
      "13/13 [==============================] - 0s 2ms/step - loss: 1.0000\n",
      "13/13 [==============================] - 0s 2ms/step - loss: 1.0000\n",
      "13/13 [==============================] - 0s 2ms/step - loss: 1.0000\n",
      "13/13 [==============================] - 0s 2ms/step - loss: 1.0000\n",
      "13/13 [==============================] - 0s 2ms/step - loss: 1.0000\n",
      "13/13 [==============================] - 0s 2ms/step - loss: 1.0000\n",
      "13/13 [==============================] - 0s 2ms/step - loss: 1.0000\n",
      "13/13 [==============================] - 0s 2ms/step - loss: 1.0000\n",
      "13/13 [==============================] - 0s 2ms/step - loss: 1.0000\n",
      "13/13 [==============================] - 0s 2ms/step - loss: 1.0000\n",
      "13/13 [==============================] - 0s 3ms/step - loss: 1.0000\n",
      "13/13 [==============================] - 0s 2ms/step - loss: 1.0000\n",
      "13/13 [==============================] - 0s 2ms/step - loss: 1.0000\n",
      "13/13 [==============================] - 0s 2ms/step - loss: 1.0000\n",
      "13/13 [==============================] - 0s 3ms/step - loss: 1.0000\n",
      "13/13 [==============================] - 0s 2ms/step - loss: 1.0000\n",
      "13/13 [==============================] - 0s 3ms/step - loss: 1.0000\n",
      "13/13 [==============================] - 0s 3ms/step - loss: 1.0000\n",
      "13/13 [==============================] - 0s 2ms/step - loss: 1.0000\n",
      "13/13 [==============================] - 0s 2ms/step - loss: 1.0000\n",
      "13/13 [==============================] - 0s 3ms/step - loss: 1.0000\n",
      "13/13 [==============================] - 0s 2ms/step - loss: 1.0000\n",
      "13/13 [==============================] - 0s 2ms/step - loss: 1.0000\n",
      "13/13 [==============================] - 0s 2ms/step - loss: 1.0000\n",
      "13/13 [==============================] - 0s 2ms/step - loss: 1.0000\n",
      "13/13 [==============================] - 0s 2ms/step - loss: 1.0000\n",
      "13/13 [==============================] - 0s 2ms/step - loss: 1.0000\n",
      "13/13 [==============================] - 0s 3ms/step - loss: 1.0000\n",
      "13/13 [==============================] - 0s 3ms/step - loss: 1.0000\n",
      "13/13 [==============================] - 0s 2ms/step - loss: 1.0000\n",
      "13/13 [==============================] - 0s 2ms/step - loss: 1.0000\n",
      "13/13 [==============================] - 0s 2ms/step - loss: 1.0000\n",
      "13/13 [==============================] - 0s 2ms/step - loss: 1.0000\n",
      "13/13 [==============================] - 0s 2ms/step - loss: 1.0000\n",
      "13/13 [==============================] - 0s 2ms/step - loss: 1.0000\n",
      "13/13 [==============================] - 0s 2ms/step - loss: 1.0000\n",
      "13/13 [==============================] - 0s 2ms/step - loss: 1.0000\n",
      "13/13 [==============================] - 0s 2ms/step - loss: 1.0000\n",
      "13/13 [==============================] - 0s 2ms/step - loss: 1.0000\n",
      "13/13 [==============================] - 0s 2ms/step - loss: 1.0000\n",
      "13/13 [==============================] - 0s 3ms/step - loss: 1.0000\n",
      "13/13 [==============================] - 0s 2ms/step - loss: 1.0000\n",
      "13/13 [==============================] - 0s 2ms/step - loss: 1.0000\n",
      "13/13 [==============================] - 0s 2ms/step - loss: 1.0000\n",
      "13/13 [==============================] - 0s 2ms/step - loss: 1.0000\n",
      "13/13 [==============================] - 0s 2ms/step - loss: 1.0000\n",
      "13/13 [==============================] - 0s 3ms/step - loss: 1.0000\n",
      "13/13 [==============================] - 0s 2ms/step - loss: 1.0000\n",
      "13/13 [==============================] - 0s 3ms/step - loss: 1.0000\n",
      "13/13 [==============================] - 0s 2ms/step - loss: 1.0000\n",
      "13/13 [==============================] - 0s 3ms/step - loss: 1.0000\n"
     ]
    }
   ],
   "source": [
    "for i in range(n_epochs):\n",
    "    # Sample new negatives to build different triplets at each epoch\n",
    "    triplet_inputs = sample_triplets(triplets, cirs_obs, cirs, random_seed=i)\n",
    "\n",
    "    # Fit the model incrementally by doing a single pass over the\n",
    "    # sampled triplets.\n",
    "    deep_triplet_model.fit(x=triplet_inputs, y=fake_y, shuffle=True,\n",
    "                      batch_size=32, epochs=1, callbacks=[history])"
   ]
  },
  {
   "cell_type": "code",
   "execution_count": 108,
   "metadata": {},
   "outputs": [
    {
     "data": {
      "text/plain": [
       "[<matplotlib.lines.Line2D at 0x2648a164bd0>]"
      ]
     },
     "execution_count": 108,
     "metadata": {},
     "output_type": "execute_result"
    },
    {
     "data": {
      "image/png": "[encoded data removed]",
      "text/plain": [
       "<Figure size 640x480 with 1 Axes>"
      ]
     },
     "metadata": {},
     "output_type": "display_data"
    }
   ],
   "source": [
    "plt.plot(history.history['loss'])"
   ]
  }
 ],
 "metadata": {
  "kernelspec": {
   "display_name": "Python 3",
   "language": "python",
   "name": "python3"
  },
  "language_info": {
   "codemirror_mode": {
    "name": "ipython",
    "version": 3
   },
   "file_extension": ".py",
   "mimetype": "text/x-python",
   "name": "python",
   "nbconvert_exporter": "python",
   "pygments_lexer": "ipython3",
   "version": "3.11.2"
  },
  "orig_nbformat": 4
 },
 "nbformat": 4,
 "nbformat_minor": 2
}
