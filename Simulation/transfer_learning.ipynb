{
 "cells": [
  {
   "cell_type": "code",
   "execution_count": 28,
   "metadata": {},
   "outputs": [],
   "source": [
    "import scipy.io\n",
    "import numpy as np\n",
    "import pandas as pd\n",
    "import math\n",
    "import matplotlib.pyplot as plt\n",
    "from scipy.spatial import distance\n",
    "from geopy.distance import geodesic\n",
    "import geopy.point as point\n",
    "from tools import *\n",
    "from pylab import *"
   ]
  },
  {
   "cell_type": "code",
   "execution_count": 29,
   "metadata": {},
   "outputs": [],
   "source": [
    "london_20 = 'london_square'\n",
    "paris_20 = 'paris_square_20'"
   ]
  },
  {
   "cell_type": "code",
   "execution_count": 30,
   "metadata": {},
   "outputs": [],
   "source": [
    "meta_ld, cirs_ld, dist_ld, Y_all_ld, RX_all_ld, _, _ = read_mat(london_20)\n",
    "meta_pr, cirs_pr, dist_pr, Y_all_pr, RX_all_pr, _, _ = read_mat(paris_20)"
   ]
  },
  {
   "cell_type": "code",
   "execution_count": 99,
   "metadata": {},
   "outputs": [
    {
     "data": {
      "text/plain": [
       "Distance(0.05263154052873037)"
      ]
     },
     "execution_count": 99,
     "metadata": {},
     "output_type": "execute_result"
    }
   ],
   "source": [
    "geodesic(Y_all_ld[0], Y_all_ld[1])"
   ]
  },
  {
   "cell_type": "markdown",
   "metadata": {},
   "source": [
    "# Preprocess"
   ]
  },
  {
   "cell_type": "code",
   "execution_count": 41,
   "metadata": {},
   "outputs": [],
   "source": [
    "def distance_tr(TX, RX):\n",
    "    \"\"\"Calculate distance between every tx and rx\"\"\"\n",
    "    new_dist = []\n",
    "    for t in TX:\n",
    "        new_dist.append(np.array([\n",
    "            geodesic(t, r).m for r in RX\n",
    "        ]))\n",
    "    return np.array(new_dist)"
   ]
  },
  {
   "cell_type": "code",
   "execution_count": 43,
   "metadata": {},
   "outputs": [],
   "source": [
    "new_dist_ld = distance_tr(Y_all_ld, RX_all_ld)"
   ]
  },
  {
   "cell_type": "code",
   "execution_count": 44,
   "metadata": {},
   "outputs": [
    {
     "name": "stderr",
     "output_type": "stream",
     "text": [
      "d:\\Telecom_2eme_anne\\Geolocation_simulation\\Simulation\\tools.py:95: ComplexWarning: Casting complex values to real discards the imaginary part\n",
      "  self.mag = - math.floor(math.log(np.mean(self.delay_set), 10))\n"
     ]
    }
   ],
   "source": [
    "ext_ld = Extractor(cirs_ld, RX_all_ld)\n",
    "ext_pr = Extractor(cirs_pr, RX_all_pr)\n",
    "\n",
    "\n",
    "# X_ld = ext_ld.formatting_X()\n",
    "# X_pr = ext_pr.formatting_X()\n",
    "\n",
    "X_ld = ext_ld.amplitute_feature()\n",
    "X_pr = ext_pr.amplitute_feature(ext_ld.max_reflection)\n",
    "\n",
    "# X_ld = ext_ld.coord_feature()\n",
    "# X_pr = ext_pr.coord_feature()"
   ]
  },
  {
   "cell_type": "code",
   "execution_count": 6,
   "metadata": {},
   "outputs": [],
   "source": [
    "from sklearn.neighbors import KernelDensity"
   ]
  },
  {
   "cell_type": "code",
   "execution_count": 8,
   "metadata": {},
   "outputs": [
    {
     "name": "stderr",
     "output_type": "stream",
     "text": [
      "d:\\Users\\lenovo\\AppData\\Local\\Programs\\Python\\Python37\\lib\\site-packages\\matplotlib\\collections.py:153: ComplexWarning: Casting complex values to real discards the imaginary part\n",
      "  offsets = np.asanyarray(offsets, float)\n"
     ]
    },
    {
     "data": {
      "image/png": "[encoded data removed]",
      "text/plain": [
       "<Figure size 432x288 with 1 Axes>"
      ]
     },
     "metadata": {
      "needs_background": "light"
     },
     "output_type": "display_data"
    }
   ],
   "source": [
    "cir_profile = cirs_pr\n",
    "\n",
    "T, S = cir_profile.shape\n",
    "\n",
    "x_pre = []\n",
    "for j in range(T):\n",
    "    cir_t = [] # channel impulse response for a transmitter\n",
    "    for i in range(S):\n",
    "        c_tmp = cir_profile[j, i].copy()\n",
    "        c_tmp[0, :] = c_tmp[0, :] * 10 ** 7 # normalize the delay seconds\n",
    "        \n",
    "        m, n = c_tmp.shape\n",
    "        if m == 2:\n",
    "            c_tmp[1, :] = abs(c_tmp[1, :])\n",
    "        plt.scatter(c_tmp[0, :], c_tmp[1, :])"
   ]
  },
  {
   "cell_type": "markdown",
   "metadata": {},
   "source": [
    "# Learning"
   ]
  },
  {
   "cell_type": "code",
   "execution_count": 45,
   "metadata": {},
   "outputs": [],
   "source": [
    "from sklearn.metrics import confusion_matrix, ConfusionMatrixDisplay, mean_squared_error\n",
    "from sklearn.model_selection import cross_val_score, cross_validate\n",
    "from tqdm import tqdm\n",
    "from sklearn.model_selection import train_test_split, GridSearchCV\n",
    "import xgboost as xgb\n",
    "from sklearn.multioutput import MultiOutputRegressor\n",
    "from sklearn.preprocessing import StandardScaler\n",
    "from sklearn.ensemble import RandomForestRegressor as RF\n",
    "from sklearn.tree import DecisionTreeRegressor as DT\n",
    "from sklearn.pipeline import Pipeline\n",
    "import seaborn as sns\n",
    "import lightgbm as lgb"
   ]
  },
  {
   "cell_type": "code",
   "execution_count": 46,
   "metadata": {},
   "outputs": [],
   "source": [
    "xgb_pipe = Pipeline([('scale', StandardScaler()), \\\n",
    "    ('xgb', MultiOutputRegressor(xgb.XGBRegressor(n_estimators=500, max_depth=2000, eta=0.1, subsample=1, colsample_bytree=1, reg_lambda=0)))])\n",
    "\n",
    "lgb_pipe = Pipeline([('scale', StandardScaler()), \\\n",
    "    ('lgb', MultiOutputRegressor(lgb.LGBMRegressor(n_estimators=500, max_depth=2000, eta=0.1, subsample=1, colsample_bytree=1, reg_lambda=0)))])\n",
    "\n",
    "rf_pipe = Pipeline([('scale', StandardScaler()), ('rf', RF(max_depth=2000))])\n",
    "\n",
    "dt_pipe = Pipeline([('scale', StandardScaler()), ('dt', DT(max_depth=2000))])"
   ]
  },
  {
   "cell_type": "code",
   "execution_count": 47,
   "metadata": {},
   "outputs": [],
   "source": [
    "pipes = [xgb_pipe, lgb_pipe, rf_pipe, dt_pipe]\n",
    "model_ls = ['XGB', 'LGBM', 'RF', 'DT']"
   ]
  },
  {
   "cell_type": "code",
   "execution_count": 50,
   "metadata": {},
   "outputs": [],
   "source": [
    "class TransferFitting(object):\n",
    "    def __init__(self, X, dist, Y, RX) -> None:\n",
    "        self.X, self.dist, self.Y, self.RX = X, dist, Y, RX\n",
    "\n",
    "        self.grid_num = int(np.sqrt(self.X.shape[0]))\n",
    "        self.x_train, self.x_test, self.dist_train, self.dist_test, self.y_train, self.y_test = train_test_split(self.X, self.dist, self.Y, train_size=.75)\n",
    "        # self.grid_lat, self.grid_lon = round(geodesic(self.Y[1, :], self.Y[1 + self.grid_num, :]).m, 2), \\\n",
    "        #     round(geodesic(self.Y[1, :], self.Y[2, :]).m, 2)\n",
    "\n",
    "    def fitting(self, model):\n",
    "        model.fit(self.x_train, self.dist_train)\n",
    "        "
   ]
  },
  {
   "cell_type": "code",
   "execution_count": 51,
   "metadata": {},
   "outputs": [],
   "source": [
    "x_train, x_test, dist_train, dist_test, tx_train, tx_test = train_test_split(X_ld, new_dist_ld, Y_all_ld, train_size=.75)\n"
   ]
  },
  {
   "cell_type": "code",
   "execution_count": 84,
   "metadata": {},
   "outputs": [
    {
     "name": "stdout",
     "output_type": "stream",
     "text": [
      "[LightGBM] [Warning] learning_rate is set=0.1, eta=0.1 will be ignored. Current value: learning_rate=0.1\n"
     ]
    }
   ],
   "source": [
    "_ = lgb_pipe.fit(x_train, dist_train)"
   ]
  },
  {
   "cell_type": "code",
   "execution_count": 85,
   "metadata": {},
   "outputs": [],
   "source": [
    "dist_pr_pred = lgb_pipe.predict(X_pr)"
   ]
  },
  {
   "cell_type": "markdown",
   "metadata": {},
   "source": [
    "## Optimization"
   ]
  },
  {
   "cell_type": "code",
   "execution_count": 56,
   "metadata": {},
   "outputs": [],
   "source": [
    "from scipy.optimize import minimize, Bounds"
   ]
  },
  {
   "cell_type": "code",
   "execution_count": 57,
   "metadata": {},
   "outputs": [],
   "source": [
    "def dist2coord(x, coords, dists):\n",
    "\n",
    "    d = np.array([geodesic(x, coord).m for coord in coords])\n",
    "\n",
    "    return np.linalg.norm([d-dists])**2\n",
    "\n",
    "def find_x(coords, dists):\n",
    "    \"\"\"find x through distance and rx coordinates\"\"\"\n",
    "    x_pred = []\n",
    "\n",
    "    bounds = Bounds([0, -90], [90, 90])\n",
    "\n",
    "    for i, p in enumerate(dists):\n",
    "        res = minimize(\n",
    "        dist2coord,\n",
    "        coords[0],\n",
    "        args=(coords, p),\n",
    "        method='L-BFGS-B',\n",
    "        options={\n",
    "            'ftol':1e-5,         # Tolerance\n",
    "            'maxiter': 1e+7      # Maximum iterations\n",
    "        },\n",
    "        bounds=bounds\n",
    "    )   \n",
    "\n",
    "        x_pred.append(res.x)\n",
    "\n",
    "    return np.array(x_pred)"
   ]
  },
  {
   "cell_type": "code",
   "execution_count": 86,
   "metadata": {},
   "outputs": [],
   "source": [
    "loc_ld_pred = find_x(RX_all_ld, lgb_pipe.predict(x_test))"
   ]
  },
  {
   "cell_type": "code",
   "execution_count": 87,
   "metadata": {},
   "outputs": [],
   "source": [
    "ld_dist_err = dist_from_geo(loc_ld_pred, tx_test)"
   ]
  },
  {
   "cell_type": "code",
   "execution_count": 88,
   "metadata": {},
   "outputs": [],
   "source": [
    "loc_pr_pred = find_x(RX_all_pr, dist_pr_pred)"
   ]
  },
  {
   "cell_type": "code",
   "execution_count": 89,
   "metadata": {},
   "outputs": [],
   "source": [
    "pr_dist_err = dist_from_geo(loc_pr_pred, Y_all_pr)"
   ]
  },
  {
   "cell_type": "code",
   "execution_count": 90,
   "metadata": {},
   "outputs": [],
   "source": [
    "def cdf_plot(data, ax=plt, label=None):\n",
    "    n = len(data)\n",
    "    x = np.arange(n) / (n-1)\n",
    "    y = np.sort(data)\n",
    "\n",
    "    ax.plot(y, x, label=label)"
   ]
  },
  {
   "cell_type": "code",
   "execution_count": 100,
   "metadata": {},
   "outputs": [
    {
     "data": {
      "image/png": "[encoded data removed]",
      "text/plain": [
       "<Figure size 432x288 with 1 Axes>"
      ]
     },
     "metadata": {
      "needs_background": "light"
     },
     "output_type": "display_data"
    }
   ],
   "source": [
    "cdf_plot(ld_dist_err, label='source')\n",
    "cdf_plot(pr_dist_err, label='target')\n",
    "plt.title('Transfer learning comparison')\n",
    "plt.ylabel('CDF')\n",
    "plt.xlabel('Error (m)')\n",
    "plt.legend(loc='best')\n",
    "plt.grid()"
   ]
  },
  {
   "cell_type": "markdown",
   "metadata": {},
   "source": [
    "# Algo comparison"
   ]
  },
  {
   "cell_type": "code",
   "execution_count": 92,
   "metadata": {},
   "outputs": [],
   "source": [
    "pipes = [xgb_pipe, lgb_pipe, rf_pipe, dt_pipe]\n",
    "model_ls = ['XGB', 'LGBM', 'RF', 'DT']"
   ]
  },
  {
   "cell_type": "code",
   "execution_count": 93,
   "metadata": {},
   "outputs": [
    {
     "name": "stdout",
     "output_type": "stream",
     "text": [
      "[LightGBM] [Warning] learning_rate is set=0.1, eta=0.1 will be ignored. Current value: learning_rate=0.1\n"
     ]
    }
   ],
   "source": [
    "pf_ld = PipesFitting(X_ld, Y_all_ld, RX_all_ld)\n",
    "pf_ld.add_pipes(pipes, model_ls)\n",
    "pf_ld.fit()"
   ]
  },
  {
   "cell_type": "code",
   "execution_count": 95,
   "metadata": {},
   "outputs": [
    {
     "data": {
      "text/plain": [
       "Text(0.5, 0, 'Error (m)')"
      ]
     },
     "execution_count": 95,
     "metadata": {},
     "output_type": "execute_result"
    },
    {
     "data": {
      "image/png": "[encoded data removed]",
      "text/plain": [
       "<Figure size 720x360 with 1 Axes>"
      ]
     },
     "metadata": {
      "needs_background": "light"
     },
     "output_type": "display_data"
    }
   ],
   "source": [
    "fig, ax = plt.subplots(figsize=(10,5))\n",
    "dists_all = pf_ld.dist_all\n",
    "for mode, dists in zip(model_ls, dists_all):\n",
    "    cdf_plot(dists, ax=ax, label=mode)\n",
    "\n",
    "cdf_plot(ld_dist_err, ax=ax, label='our method')\n",
    "plt.legend()\n",
    "plt.title('Localization in London city')\n",
    "plt.ylabel('CDF')\n",
    "plt.xlabel('Error (m)')"
   ]
  },
  {
   "cell_type": "code",
   "execution_count": 77,
   "metadata": {},
   "outputs": [
    {
     "data": {
      "text/plain": [
       "(4, 100)"
      ]
     },
     "execution_count": 77,
     "metadata": {},
     "output_type": "execute_result"
    }
   ],
   "source": [
    "len(pf_ld.dist_all), len(pf_ld.dist_all[0])"
   ]
  }
 ],
 "metadata": {
  "kernelspec": {
   "display_name": "PyCharm (computer_vision)",
   "language": "python",
   "name": "pycharm-dac32f44"
  },
  "language_info": {
   "codemirror_mode": {
    "name": "ipython",
    "version": 3
   },
   "file_extension": ".py",
   "mimetype": "text/x-python",
   "name": "python",
   "nbconvert_exporter": "python",
   "pygments_lexer": "ipython3",
   "version": "3.7.8"
  },
  "orig_nbformat": 4,
  "vscode": {
   "interpreter": {
    "hash": "03573f4b64923689d4251380d9281a39682538eb2277d996e0c4a1b13dbbb109"
   }
  }
 },
 "nbformat": 4,
 "nbformat_minor": 2
}
