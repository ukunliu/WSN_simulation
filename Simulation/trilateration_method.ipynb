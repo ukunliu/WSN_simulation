{
 "cells": [
  {
   "cell_type": "code",
   "execution_count": 43,
   "metadata": {},
   "outputs": [],
   "source": [
    "import scipy.io\n",
    "import numpy as np\n",
    "import pandas as pd\n",
    "import math\n",
    "import matplotlib.pyplot as plt\n",
    "from scipy.spatial import distance\n",
    "from geopy.distance import geodesic\n",
    "import geopy.point as point\n",
    "from tools import *\n",
    "from pylab import *"
   ]
  },
  {
   "cell_type": "code",
   "execution_count": 53,
   "metadata": {},
   "outputs": [],
   "source": [
    "london_20 = 'london_square_20'\n",
    "paris_20 = 'paris_square_20'\n",
    "toulouse_20 = 'toulouse_square_20'\n",
    "\n",
    "base_ld = f'./dataset/data_with_building/london_square_20_cell.mat'\n",
    "base_pr = f'./dataset/data_with_building/{paris_20}_cell.mat'\n",
    "base_tl = f'./dataset/data_with_building/{toulouse_20}_cell.mat'"
   ]
  },
  {
   "cell_type": "code",
   "execution_count": 54,
   "metadata": {},
   "outputs": [],
   "source": [
    "meta_ld, cirs_ld, dist_ld, Y_all_ld, RX_all_ld = read_mat(base_ld, london_20)\n",
    "meta_pr, cirs_pr, dist_pr, Y_all_pr, RX_all_pr = read_mat(base_pr, paris_20)\n",
    "meta_toul, cirs_toul, dist_toul, Y_all_toul, RX_all_toul = read_mat(base_tl, toulouse_20)"
   ]
  },
  {
   "cell_type": "code",
   "execution_count": 55,
   "metadata": {},
   "outputs": [],
   "source": [
    "toa = []\n",
    "for i in cirs_ld:\n",
    "    toa.append([j[0,0]*3e8 for j in i])\n",
    "\n",
    "def toa_ex(data):\n",
    "    toa = []\n",
    "    for d in data:\n",
    "        toa.append([di[0,0]*3e8 for di in d])\n",
    "\n",
    "    return toa"
   ]
  },
  {
   "cell_type": "code",
   "execution_count": 56,
   "metadata": {},
   "outputs": [],
   "source": [
    "from sklearn.metrics import confusion_matrix, ConfusionMatrixDisplay, mean_squared_error\n",
    "from sklearn.model_selection import cross_val_score, cross_validate\n",
    "from tqdm import tqdm\n",
    "from sklearn.model_selection import train_test_split, GridSearchCV\n",
    "import xgboost as xgb\n",
    "from sklearn.multioutput import MultiOutputRegressor\n",
    "from sklearn.preprocessing import StandardScaler\n",
    "from sklearn.ensemble import RandomForestRegressor as RF\n",
    "from sklearn.tree import DecisionTreeRegressor as DT\n",
    "from sklearn.pipeline import Pipeline\n",
    "import seaborn as sns\n",
    "import lightgbm as lgb\n",
    "from scipy.optimize import minimize, Bounds\n",
    "from sklearn.ensemble import AdaBoostRegressor as ABR"
   ]
  },
  {
   "cell_type": "code",
   "execution_count": 57,
   "metadata": {},
   "outputs": [],
   "source": [
    "def optimize(RX, dist_pred):\n",
    "    \"\"\"find x through distance and rx coordinates\"\"\"\n",
    "\n",
    "    def dist2coord(x, coords, dists):\n",
    "\n",
    "        d = np.array([geodesic(x, coord).m for coord in coords])\n",
    "\n",
    "        return np.linalg.norm([d-dists])**2\n",
    "\n",
    "    x_pred = []\n",
    "\n",
    "    bounds = Bounds([0, -90], [90, 90])\n",
    "\n",
    "    for p in dist_pred:\n",
    "        res = minimize(\n",
    "        dist2coord,\n",
    "        RX[0],\n",
    "        args=(RX, p),\n",
    "        method='L-BFGS-B',\n",
    "        options={\n",
    "            'ftol':1e-5,         # Tolerance\n",
    "            'maxiter': 1e+7      # Maximum iterations\n",
    "        },\n",
    "        bounds=bounds\n",
    "    )   \n",
    "\n",
    "        x_pred.append(res.x)\n",
    "\n",
    "    return np.array(x_pred)\n",
    "\n",
    "def cdf_plot(data, ax=plt, label=None):\n",
    "    n = len(data)\n",
    "    x = np.arange(n) / (n-1)\n",
    "    y = np.sort(data)\n",
    "\n",
    "    ax.plot(y, x, '--',label=label, linewidth=2)\n",
    "        "
   ]
  },
  {
   "cell_type": "code",
   "execution_count": 58,
   "metadata": {},
   "outputs": [],
   "source": [
    "toa_pr = toa_ex(cirs_pr)\n",
    "toa_tl = toa_ex(cirs_toul)"
   ]
  },
  {
   "cell_type": "code",
   "execution_count": 59,
   "metadata": {},
   "outputs": [],
   "source": [
    "loc_pr = optimize(RX_all_pr, toa_pr)\n"
   ]
  },
  {
   "cell_type": "code",
   "execution_count": 60,
   "metadata": {},
   "outputs": [],
   "source": [
    "loc_ld = optimize(RX_all_ld, toa)\n",
    "loc_pr = optimize(RX_all_pr, toa_ex(cirs_pr))\n",
    "loc_tl = optimize(RX_all_toul, toa_ex(cirs_toul))"
   ]
  },
  {
   "cell_type": "code",
   "execution_count": 61,
   "metadata": {},
   "outputs": [],
   "source": [
    "# e_ld = dist_from_geo(loc_ld, Y_all_ld)\n",
    "e_pr = dist_from_geo(loc_pr, Y_all_pr)"
   ]
  },
  {
   "cell_type": "code",
   "execution_count": 38,
   "metadata": {},
   "outputs": [],
   "source": [
    "e_tl = dist_from_geo(loc_tl, Y_all_toul)"
   ]
  },
  {
   "cell_type": "code",
   "execution_count": 42,
   "metadata": {},
   "outputs": [
    {
     "data": {
      "image/png": "[encoded data removed]",
      "text/plain": [
       "<Figure size 432x288 with 1 Axes>"
      ]
     },
     "metadata": {
      "needs_background": "light"
     },
     "output_type": "display_data"
    }
   ],
   "source": [
    "cdf_plot(e_tl)"
   ]
  },
  {
   "cell_type": "code",
   "execution_count": 63,
   "metadata": {},
   "outputs": [
    {
     "data": {
      "image/png": "[encoded data removed]",
      "text/plain": [
       "<Figure size 432x288 with 1 Axes>"
      ]
     },
     "metadata": {
      "needs_background": "light"
     },
     "output_type": "display_data"
    }
   ],
   "source": [
    "cdf_plot(e_ld)\n",
    "# cdf_plot(e_pr)\n",
    "# cdf_plot(e_tl)"
   ]
  },
  {
   "cell_type": "markdown",
   "metadata": {},
   "source": [
    "# Fingerprint"
   ]
  },
  {
   "cell_type": "code",
   "execution_count": 64,
   "metadata": {},
   "outputs": [],
   "source": [
    "\n",
    "lgb_pipe = Pipeline([('scale', StandardScaler()), \\\n",
    "    ('lgb', MultiOutputRegressor(lgb.LGBMRegressor(n_estimators=500, max_depth=2000, eta=0.1, subsample=1, colsample_bytree=1, reg_lambda=0)))])\n"
   ]
  },
  {
   "cell_type": "code",
   "execution_count": null,
   "metadata": {},
   "outputs": [],
   "source": [
    "x_train, x_test, y_train, y_test, tx_train, tx_test = train_test_split(X_, Y, Y, train_size=.75)\n"
   ]
  }
 ],
 "metadata": {
  "kernelspec": {
   "display_name": "PyCharm (computer_vision)",
   "language": "python",
   "name": "pycharm-dac32f44"
  },
  "language_info": {
   "codemirror_mode": {
    "name": "ipython",
    "version": 3
   },
   "file_extension": ".py",
   "mimetype": "text/x-python",
   "name": "python",
   "nbconvert_exporter": "python",
   "pygments_lexer": "ipython3",
   "version": "3.7.8"
  },
  "orig_nbformat": 4,
  "vscode": {
   "interpreter": {
    "hash": "03573f4b64923689d4251380d9281a39682538eb2277d996e0c4a1b13dbbb109"
   }
  }
 },
 "nbformat": 4,
 "nbformat_minor": 2
}
