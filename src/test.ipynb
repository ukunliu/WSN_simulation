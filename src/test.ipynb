{
 "cells": [
  {
   "cell_type": "markdown",
   "metadata": {},
   "source": [
    "# Links:\n",
    "[sigfox configuration](https://build.sigfox.com/sigfox-radio-configurations-rc)\n",
    "\n",
    "\n",
    "[wireless and mobile networking](https://www.cse.wustl.edu/~jain/cse574-16/)\n",
    "\n",
    "[Sigfox network emulator](chrome-extension://efaidnbmnnnibpcajpcglclefindmkaj/https://www.sigfox.com/center/download/SIFOX%20network%20emulator%20User%20Guide_0.pdf)"
   ]
  },
  {
   "cell_type": "code",
   "execution_count": 29,
   "metadata": {},
   "outputs": [],
   "source": [
    "import simpy\n",
    "import numpy as np\n",
    "import math\n",
    "import matplotlib.pyplot as plt"
   ]
  },
  {
   "cell_type": "code",
   "execution_count": 30,
   "metadata": {},
   "outputs": [],
   "source": [
    "class Space(object):\n",
    "    def __init__(self, env, num_worker):\n",
    "        self.env = env\n",
    "        self.worker = simpy.Resource(env, num_worker)"
   ]
  },
  {
   "cell_type": "code",
   "execution_count": 31,
   "metadata": {},
   "outputs": [],
   "source": [
    "from scipy.spatial.transform import Rotation as R"
   ]
  },
  {
   "cell_type": "code",
   "execution_count": 32,
   "metadata": {},
   "outputs": [],
   "source": [
    "class Agent(object):\n",
    "    def __init__(self, **kwargs):\n",
    "        self.gp = kwargs['gp'] # global position\n",
    "        self.ln = kwargs['ln'] # number of NLOS paths\n",
    "        self.o = kwargs['o'] # euler angle\n",
    "        # self.t = kwargs['t'] direction vector\n",
    "        self.phi = kwargs['phi'] # beamforming angle"
   ]
  },
  {
   "cell_type": "code",
   "execution_count": 33,
   "metadata": {},
   "outputs": [],
   "source": [
    "global c\n",
    "c = 3 * 10e8\n",
    "\n",
    "def path_gain(f, d):\n",
    "    r'''\n",
    "    LOS path gain rho = c / (4 * pi * f * d) * Kappa (attenuation)\n",
    "    '''\n",
    "    return c / (4 * math.pi * f * d) #* kappa(f, d)\n",
    "\n",
    "def kappa(f, d):\n",
    "    r'''\n",
    "    attenuation coefficient depending on freq and distance\n",
    "    For mmWave, the attenuation over distance is set to 16 dB / km\n",
    "    '''\n",
    "    return 16 * d / 1000\n",
    "\n",
    "def antenna_gain(phi, theta, phi_t, theta_t):\n",
    "    r'''\n",
    "    G = 1 for omnidirectional antennas\n",
    "    G = sqrt(G_0) when angle in range or 0 when angle out of antennas range for other antennas\n",
    "    phi: [phi_0, phi_1] pitch range\n",
    "    theta: [theta_0, theta_1] \n",
    "    '''\n",
    "    # if \n",
    "    return np.sqrt(4 * math.pi / (theta[1] * phi[1]))\n",
    "\n",
    "def steering_vector():\n",
    "    ...\n",
    "\n",
    "def channel_matrix(d, fc, fk, B, delta_f, phi, theta, phi_t, theta_t):\n",
    "    r'''\n",
    "    channel matrix modeling channel response for k-th subcarrier\n",
    "    d: distance between station and equipment (m)\n",
    "    fc: central freqency (Hz)\n",
    "    fk: k-th subcarrier freq(Hz)\n",
    "    B: Synchronization offset\n",
    "    '''\n",
    "    ck = fc / fk                    # ration between central freq and subcarrier freq\n",
    "    tau = d / c + B                 # signal delay\n",
    "    epsl = 2 * math.pi * fc * tau   # \n",
    "    kappa = 16 * d / 1000           # attenuation coef depending on signal freq and distance\n",
    "\n",
    "    H = ck * path_gain(fc, d) * np.exp(1j * (epsl + 2 * math.pi * delta_f * tau)) * antenna_gain(phi, theta, phi_t, theta_t)\n",
    "\n",
    "    return H"
   ]
  },
  {
   "cell_type": "code",
   "execution_count": 34,
   "metadata": {},
   "outputs": [
    {
     "data": {
      "text/plain": [
       "(-0.20149631590468647-0.3490017733935374j)"
      ]
     },
     "execution_count": 34,
     "metadata": {},
     "output_type": "execute_result"
    }
   ],
   "source": [
    "fc = 862e6\n",
    "\n",
    "channel_matrix(10, 2e8, 2.1e8, 1, 1, [0,1], [0,1], 1, 1)"
   ]
  },
  {
   "cell_type": "code",
   "execution_count": 35,
   "metadata": {},
   "outputs": [],
   "source": [
    "n = 100\n",
    "n_s = 20\n",
    "\n",
    "coordinate = np.random.random([n, 3])\n",
    "station_idx = np.random.choice(n, n_s)\n",
    "bs = coordinate[station_idx]\n",
    "ue = coordinate[~station_idx]"
   ]
  },
  {
   "cell_type": "code",
   "execution_count": 36,
   "metadata": {},
   "outputs": [],
   "source": [
    "from scipy.io.wavfile import read, write"
   ]
  },
  {
   "cell_type": "code",
   "execution_count": null,
   "metadata": {},
   "outputs": [],
   "source": []
  },
  {
   "cell_type": "code",
   "execution_count": 42,
   "metadata": {},
   "outputs": [
    {
     "name": "stderr",
     "output_type": "stream",
     "text": [
      "C:\\Users\\lenovo\\AppData\\Roaming\\Python\\Python37\\site-packages\\ipykernel_launcher.py:1: WavFileWarning: Chunk (non-data) not understood, skipping it.\n",
      "  \"\"\"Entry point for launching an IPython kernel.\n"
     ]
    },
    {
     "data": {
      "text/plain": [
       "[<matplotlib.lines.Line2D at 0x2760dd0f688>]"
      ]
     },
     "execution_count": 42,
     "metadata": {},
     "output_type": "execute_result"
    },
    {
     "data": {
      "image/png": "[encoded data removed]",
      "text/plain": [
       "<Figure size 432x288 with 1 Axes>"
      ]
     },
     "metadata": {
      "needs_background": "light"
     },
     "output_type": "display_data"
    }
   ],
   "source": [
    "fs, sig = read('sample1.wav')\n",
    "\n",
    "plt.plot(sig[:, 1])"
   ]
  },
  {
   "cell_type": "code",
   "execution_count": 46,
   "metadata": {},
   "outputs": [
    {
     "name": "stderr",
     "output_type": "stream",
     "text": [
      "d:\\Users\\lenovo\\AppData\\Local\\Programs\\Python\\Python37\\lib\\site-packages\\matplotlib\\cbook\\__init__.py:1317: ComplexWarning: Casting complex values to real discards the imaginary part\n",
      "  return np.asarray(x, float)\n"
     ]
    },
    {
     "data": {
      "text/plain": [
       "[<matplotlib.lines.Line2D at 0x2760df3e548>]"
      ]
     },
     "execution_count": 46,
     "metadata": {},
     "output_type": "execute_result"
    },
    {
     "data": {
      "image/png": "[encoded data removed]",
      "text/plain": [
       "<Figure size 432x288 with 1 Axes>"
      ]
     },
     "metadata": {
      "needs_background": "light"
     },
     "output_type": "display_data"
    }
   ],
   "source": [
    "# precode fft\n",
    "sig_f = np.fft.fft(sig[:, 1])\n"
   ]
  },
  {
   "cell_type": "code",
   "execution_count": 3,
   "metadata": {},
   "outputs": [
    {
     "data": {
      "text/plain": [
       "1"
      ]
     },
     "execution_count": 3,
     "metadata": {},
     "output_type": "execute_result"
    }
   ],
   "source": [
    "a = Agent(gp=1)\n",
    "a.gp"
   ]
  },
  {
   "cell_type": "markdown",
   "metadata": {},
   "source": [
    "3|4"
   ]
  }
 ],
 "metadata": {
  "kernelspec": {
   "display_name": "PyCharm (computer_vision)",
   "language": "python",
   "name": "pycharm-dac32f44"
  },
  "language_info": {
   "codemirror_mode": {
    "name": "ipython",
    "version": 3
   },
   "file_extension": ".py",
   "mimetype": "text/x-python",
   "name": "python",
   "nbconvert_exporter": "python",
   "pygments_lexer": "ipython3",
   "version": "3.7.8"
  },
  "orig_nbformat": 4,
  "vscode": {
   "interpreter": {
    "hash": "03573f4b64923689d4251380d9281a39682538eb2277d996e0c4a1b13dbbb109"
   }
  }
 },
 "nbformat": 4,
 "nbformat_minor": 2
}
